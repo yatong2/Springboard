{
 "cells": [
  {
   "cell_type": "code",
   "execution_count": 1,
   "metadata": {
    "collapsed": true
   },
   "outputs": [],
   "source": [
    "import pandas as pd\n",
    "import numpy as np\n",
    "import matplotlib.pyplot as plt\n",
    "%matplotlib inline\n",
    "import seaborn as sns\n",
    "from sklearn.linear_model import LogisticRegression\n",
    "from sklearn.metrics import classification_report\n",
    "from sklearn.model_selection import GridSearchCV\n",
    "from sklearn.metrics import accuracy_score\n",
    "from sklearn.preprocessing import StandardScaler \n",
    "from sklearn.preprocessing import LabelEncoder"
   ]
  },
  {
   "cell_type": "markdown",
   "metadata": {},
   "source": [
    "### Load data"
   ]
  },
  {
   "cell_type": "code",
   "execution_count": 2,
   "metadata": {},
   "outputs": [
    {
     "data": {
      "text/html": [
       "<div>\n",
       "<style>\n",
       "    .dataframe thead tr:only-child th {\n",
       "        text-align: right;\n",
       "    }\n",
       "\n",
       "    .dataframe thead th {\n",
       "        text-align: left;\n",
       "    }\n",
       "\n",
       "    .dataframe tbody tr th {\n",
       "        vertical-align: top;\n",
       "    }\n",
       "</style>\n",
       "<table border=\"1\" class=\"dataframe\">\n",
       "  <thead>\n",
       "    <tr style=\"text-align: right;\">\n",
       "      <th></th>\n",
       "      <th>id</th>\n",
       "      <th>date_account_created</th>\n",
       "      <th>timestamp_first_active</th>\n",
       "      <th>date_first_booking</th>\n",
       "      <th>gender</th>\n",
       "      <th>age</th>\n",
       "      <th>signup_method</th>\n",
       "      <th>signup_flow</th>\n",
       "      <th>language</th>\n",
       "      <th>affiliate_channel</th>\n",
       "      <th>affiliate_provider</th>\n",
       "      <th>first_affiliate_tracked</th>\n",
       "      <th>signup_app</th>\n",
       "      <th>first_device_type</th>\n",
       "      <th>first_browser</th>\n",
       "      <th>country_destination</th>\n",
       "    </tr>\n",
       "  </thead>\n",
       "  <tbody>\n",
       "    <tr>\n",
       "      <th>0</th>\n",
       "      <td>gxn3p5htnn</td>\n",
       "      <td>2010-06-28</td>\n",
       "      <td>20090319043255</td>\n",
       "      <td>NaN</td>\n",
       "      <td>-unknown-</td>\n",
       "      <td>NaN</td>\n",
       "      <td>facebook</td>\n",
       "      <td>0</td>\n",
       "      <td>en</td>\n",
       "      <td>direct</td>\n",
       "      <td>direct</td>\n",
       "      <td>untracked</td>\n",
       "      <td>Web</td>\n",
       "      <td>Mac Desktop</td>\n",
       "      <td>Chrome</td>\n",
       "      <td>NDF</td>\n",
       "    </tr>\n",
       "    <tr>\n",
       "      <th>1</th>\n",
       "      <td>820tgsjxq7</td>\n",
       "      <td>2011-05-25</td>\n",
       "      <td>20090523174809</td>\n",
       "      <td>NaN</td>\n",
       "      <td>MALE</td>\n",
       "      <td>38.0</td>\n",
       "      <td>facebook</td>\n",
       "      <td>0</td>\n",
       "      <td>en</td>\n",
       "      <td>seo</td>\n",
       "      <td>google</td>\n",
       "      <td>untracked</td>\n",
       "      <td>Web</td>\n",
       "      <td>Mac Desktop</td>\n",
       "      <td>Chrome</td>\n",
       "      <td>NDF</td>\n",
       "    </tr>\n",
       "    <tr>\n",
       "      <th>2</th>\n",
       "      <td>4ft3gnwmtx</td>\n",
       "      <td>2010-09-28</td>\n",
       "      <td>20090609231247</td>\n",
       "      <td>2010-08-02</td>\n",
       "      <td>FEMALE</td>\n",
       "      <td>56.0</td>\n",
       "      <td>basic</td>\n",
       "      <td>3</td>\n",
       "      <td>en</td>\n",
       "      <td>direct</td>\n",
       "      <td>direct</td>\n",
       "      <td>untracked</td>\n",
       "      <td>Web</td>\n",
       "      <td>Windows Desktop</td>\n",
       "      <td>IE</td>\n",
       "      <td>US</td>\n",
       "    </tr>\n",
       "    <tr>\n",
       "      <th>3</th>\n",
       "      <td>bjjt8pjhuk</td>\n",
       "      <td>2011-12-05</td>\n",
       "      <td>20091031060129</td>\n",
       "      <td>2012-09-08</td>\n",
       "      <td>FEMALE</td>\n",
       "      <td>42.0</td>\n",
       "      <td>facebook</td>\n",
       "      <td>0</td>\n",
       "      <td>en</td>\n",
       "      <td>direct</td>\n",
       "      <td>direct</td>\n",
       "      <td>untracked</td>\n",
       "      <td>Web</td>\n",
       "      <td>Mac Desktop</td>\n",
       "      <td>Firefox</td>\n",
       "      <td>other</td>\n",
       "    </tr>\n",
       "    <tr>\n",
       "      <th>4</th>\n",
       "      <td>87mebub9p4</td>\n",
       "      <td>2010-09-14</td>\n",
       "      <td>20091208061105</td>\n",
       "      <td>2010-02-18</td>\n",
       "      <td>-unknown-</td>\n",
       "      <td>41.0</td>\n",
       "      <td>basic</td>\n",
       "      <td>0</td>\n",
       "      <td>en</td>\n",
       "      <td>direct</td>\n",
       "      <td>direct</td>\n",
       "      <td>untracked</td>\n",
       "      <td>Web</td>\n",
       "      <td>Mac Desktop</td>\n",
       "      <td>Chrome</td>\n",
       "      <td>US</td>\n",
       "    </tr>\n",
       "    <tr>\n",
       "      <th>5</th>\n",
       "      <td>osr2jwljor</td>\n",
       "      <td>2010-01-01</td>\n",
       "      <td>20100101215619</td>\n",
       "      <td>2010-01-02</td>\n",
       "      <td>-unknown-</td>\n",
       "      <td>NaN</td>\n",
       "      <td>basic</td>\n",
       "      <td>0</td>\n",
       "      <td>en</td>\n",
       "      <td>other</td>\n",
       "      <td>other</td>\n",
       "      <td>omg</td>\n",
       "      <td>Web</td>\n",
       "      <td>Mac Desktop</td>\n",
       "      <td>Chrome</td>\n",
       "      <td>US</td>\n",
       "    </tr>\n",
       "    <tr>\n",
       "      <th>6</th>\n",
       "      <td>lsw9q7uk0j</td>\n",
       "      <td>2010-01-02</td>\n",
       "      <td>20100102012558</td>\n",
       "      <td>2010-01-05</td>\n",
       "      <td>FEMALE</td>\n",
       "      <td>46.0</td>\n",
       "      <td>basic</td>\n",
       "      <td>0</td>\n",
       "      <td>en</td>\n",
       "      <td>other</td>\n",
       "      <td>craigslist</td>\n",
       "      <td>untracked</td>\n",
       "      <td>Web</td>\n",
       "      <td>Mac Desktop</td>\n",
       "      <td>Safari</td>\n",
       "      <td>US</td>\n",
       "    </tr>\n",
       "    <tr>\n",
       "      <th>7</th>\n",
       "      <td>0d01nltbrs</td>\n",
       "      <td>2010-01-03</td>\n",
       "      <td>20100103191905</td>\n",
       "      <td>2010-01-13</td>\n",
       "      <td>FEMALE</td>\n",
       "      <td>47.0</td>\n",
       "      <td>basic</td>\n",
       "      <td>0</td>\n",
       "      <td>en</td>\n",
       "      <td>direct</td>\n",
       "      <td>direct</td>\n",
       "      <td>omg</td>\n",
       "      <td>Web</td>\n",
       "      <td>Mac Desktop</td>\n",
       "      <td>Safari</td>\n",
       "      <td>US</td>\n",
       "    </tr>\n",
       "    <tr>\n",
       "      <th>8</th>\n",
       "      <td>a1vcnhxeij</td>\n",
       "      <td>2010-01-04</td>\n",
       "      <td>20100104004211</td>\n",
       "      <td>2010-07-29</td>\n",
       "      <td>FEMALE</td>\n",
       "      <td>50.0</td>\n",
       "      <td>basic</td>\n",
       "      <td>0</td>\n",
       "      <td>en</td>\n",
       "      <td>other</td>\n",
       "      <td>craigslist</td>\n",
       "      <td>untracked</td>\n",
       "      <td>Web</td>\n",
       "      <td>Mac Desktop</td>\n",
       "      <td>Safari</td>\n",
       "      <td>US</td>\n",
       "    </tr>\n",
       "    <tr>\n",
       "      <th>9</th>\n",
       "      <td>6uh8zyj2gn</td>\n",
       "      <td>2010-01-04</td>\n",
       "      <td>20100104023758</td>\n",
       "      <td>2010-01-04</td>\n",
       "      <td>-unknown-</td>\n",
       "      <td>46.0</td>\n",
       "      <td>basic</td>\n",
       "      <td>0</td>\n",
       "      <td>en</td>\n",
       "      <td>other</td>\n",
       "      <td>craigslist</td>\n",
       "      <td>omg</td>\n",
       "      <td>Web</td>\n",
       "      <td>Mac Desktop</td>\n",
       "      <td>Firefox</td>\n",
       "      <td>US</td>\n",
       "    </tr>\n",
       "  </tbody>\n",
       "</table>\n",
       "</div>"
      ],
      "text/plain": [
       "           id date_account_created  timestamp_first_active date_first_booking  \\\n",
       "0  gxn3p5htnn           2010-06-28          20090319043255                NaN   \n",
       "1  820tgsjxq7           2011-05-25          20090523174809                NaN   \n",
       "2  4ft3gnwmtx           2010-09-28          20090609231247         2010-08-02   \n",
       "3  bjjt8pjhuk           2011-12-05          20091031060129         2012-09-08   \n",
       "4  87mebub9p4           2010-09-14          20091208061105         2010-02-18   \n",
       "5  osr2jwljor           2010-01-01          20100101215619         2010-01-02   \n",
       "6  lsw9q7uk0j           2010-01-02          20100102012558         2010-01-05   \n",
       "7  0d01nltbrs           2010-01-03          20100103191905         2010-01-13   \n",
       "8  a1vcnhxeij           2010-01-04          20100104004211         2010-07-29   \n",
       "9  6uh8zyj2gn           2010-01-04          20100104023758         2010-01-04   \n",
       "\n",
       "      gender   age signup_method  signup_flow language affiliate_channel  \\\n",
       "0  -unknown-   NaN      facebook            0       en            direct   \n",
       "1       MALE  38.0      facebook            0       en               seo   \n",
       "2     FEMALE  56.0         basic            3       en            direct   \n",
       "3     FEMALE  42.0      facebook            0       en            direct   \n",
       "4  -unknown-  41.0         basic            0       en            direct   \n",
       "5  -unknown-   NaN         basic            0       en             other   \n",
       "6     FEMALE  46.0         basic            0       en             other   \n",
       "7     FEMALE  47.0         basic            0       en            direct   \n",
       "8     FEMALE  50.0         basic            0       en             other   \n",
       "9  -unknown-  46.0         basic            0       en             other   \n",
       "\n",
       "  affiliate_provider first_affiliate_tracked signup_app first_device_type  \\\n",
       "0             direct               untracked        Web       Mac Desktop   \n",
       "1             google               untracked        Web       Mac Desktop   \n",
       "2             direct               untracked        Web   Windows Desktop   \n",
       "3             direct               untracked        Web       Mac Desktop   \n",
       "4             direct               untracked        Web       Mac Desktop   \n",
       "5              other                     omg        Web       Mac Desktop   \n",
       "6         craigslist               untracked        Web       Mac Desktop   \n",
       "7             direct                     omg        Web       Mac Desktop   \n",
       "8         craigslist               untracked        Web       Mac Desktop   \n",
       "9         craigslist                     omg        Web       Mac Desktop   \n",
       "\n",
       "  first_browser country_destination  \n",
       "0        Chrome                 NDF  \n",
       "1        Chrome                 NDF  \n",
       "2            IE                  US  \n",
       "3       Firefox               other  \n",
       "4        Chrome                  US  \n",
       "5        Chrome                  US  \n",
       "6        Safari                  US  \n",
       "7        Safari                  US  \n",
       "8        Safari                  US  \n",
       "9       Firefox                  US  "
      ]
     },
     "execution_count": 2,
     "metadata": {},
     "output_type": "execute_result"
    }
   ],
   "source": [
    "train_data = pd.read_csv('../../airbnb_project_data/train_users_2.csv')\n",
    "train_data.head(10)"
   ]
  },
  {
   "cell_type": "markdown",
   "metadata": {},
   "source": [
    "### Rearrange data"
   ]
  },
  {
   "cell_type": "code",
   "execution_count": 3,
   "metadata": {
    "collapsed": true
   },
   "outputs": [],
   "source": [
    "def rearrange_data(dataset):\n",
    "    #rearrange age data and separate as four groups: nan, young people, middle age people and old people\n",
    "    age = []\n",
    "    for i in dataset.age:\n",
    "        if (i > 95) | (i < 18) | (pd.isnull(i)) :\n",
    "            category = 'NaN'\n",
    "        elif (i >= 18) & (i < 30):\n",
    "            category = 'young_people'\n",
    "        elif (i >= 30) & (i < 55):\n",
    "            category = 'middle_age_people'\n",
    "        elif (i >= 55) & (i <= 95):\n",
    "            category = 'old_people'\n",
    "        age.append(category)\n",
    "    age = pd.get_dummies(pd.Series(age), prefix='age', drop_first=True)\n",
    "    \n",
    "    #use dummy variable to separate different categories in each column\n",
    "    signup_method = pd.get_dummies(dataset.signup_method, prefix='signup_method', drop_first=True)\n",
    "    language = pd.get_dummies(dataset.language, prefix='language', drop_first=True) #(train.language == 'en').astype(int)\n",
    "    affiliate_channel = pd.get_dummies(dataset.affiliate_channel, prefix='affiliate_channel', drop_first=True)\n",
    "    first_tracked = pd.get_dummies(dataset.first_affiliate_tracked, prefix='first_tracked', drop_first=True)\n",
    "    signup_app = pd.get_dummies(dataset.signup_app, prefix='signup_app', drop_first=True)\n",
    "    signup_flow = pd.get_dummies(dataset.signup_flow, prefix='signup_flow', drop_first=True)\n",
    "    affiliate_provider = pd.get_dummies(dataset.affiliate_provider, prefix='affiliate_provider', drop_first=True)\n",
    "    first_browser = pd.get_dummies(dataset.first_browser, prefix='first_browser', drop_first=True)\n",
    "    \n",
    "    #for gender column, combine 'unknown' with 'other'\n",
    "    dataset.gender.replace('-unknown-', 'OTHER', inplace=True)\n",
    "    gender = pd.get_dummies(dataset.gender, prefix='gender', drop_first=True)\n",
    "    \n",
    "    #for first device type, combine 'desktop(other)', 'smartphone(other)' and 'other/unknown' as one group\n",
    "    first_device = dataset.first_device_type\n",
    "    pd.options.mode.chained_assignment = None\n",
    "    first_device[(first_device == 'Desktop (Other)')|(first_device == 'SmartPhone (Other)')] = 'Other/Unknown'\n",
    "    first_device = pd.get_dummies(first_device, prefix='first_device', drop_first=True)\n",
    "\n",
    "    return gender, age, signup_method, signup_flow, language, affiliate_channel, affiliate_provider, first_tracked, signup_app, first_device, first_browser"
   ]
  },
  {
   "cell_type": "markdown",
   "metadata": {},
   "source": [
    "### First model"
   ]
  },
  {
   "cell_type": "code",
   "execution_count": 4,
   "metadata": {
    "collapsed": true
   },
   "outputs": [],
   "source": [
    "#deal with time\n",
    "create_time = []\n",
    "for i in train_data.date_account_created:\n",
    "    create_time.append(pd.Timestamp(i))\n",
    "    \n",
    "active_time = []\n",
    "for i in train_data.timestamp_first_active:\n",
    "    active_time.append(pd.Timestamp(str(i)[0:8]))\n",
    "    \n",
    "gap = []\n",
    "for i in range(len(create_time)):\n",
    "    gap_day = (create_time[i] - active_time[i]).days\n",
    "    gap.append(float(gap_day))\n",
    "gap = pd.Series(gap).rename('gap')"
   ]
  },
  {
   "cell_type": "code",
   "execution_count": 5,
   "metadata": {
    "collapsed": true
   },
   "outputs": [],
   "source": [
    "gender, age, signup_method, signup_flow, language, affiliate_channel, affiliate_provider, first_tracked, signup_app, first_device, first_browser = rearrange_data(train_data)"
   ]
  },
  {
   "cell_type": "code",
   "execution_count": 6,
   "metadata": {
    "collapsed": true
   },
   "outputs": [],
   "source": [
    "first_model_label = (train_data.country_destination == 'NDF').astype(int)"
   ]
  },
  {
   "cell_type": "code",
   "execution_count": 7,
   "metadata": {},
   "outputs": [],
   "source": [
    "data_df_1 = pd.concat([gap, gender, age, signup_method, signup_flow, \n",
    "                       language, affiliate_channel, affiliate_provider, first_tracked, signup_app, first_device,\n",
    "                       first_browser, first_model_label], axis=1)"
   ]
  },
  {
   "cell_type": "code",
   "execution_count": 8,
   "metadata": {},
   "outputs": [
    {
     "data": {
      "text/html": [
       "<div>\n",
       "<style>\n",
       "    .dataframe thead tr:only-child th {\n",
       "        text-align: right;\n",
       "    }\n",
       "\n",
       "    .dataframe thead th {\n",
       "        text-align: left;\n",
       "    }\n",
       "\n",
       "    .dataframe tbody tr th {\n",
       "        vertical-align: top;\n",
       "    }\n",
       "</style>\n",
       "<table border=\"1\" class=\"dataframe\">\n",
       "  <thead>\n",
       "    <tr style=\"text-align: right;\">\n",
       "      <th></th>\n",
       "      <th>gap</th>\n",
       "      <th>gender_MALE</th>\n",
       "      <th>gender_OTHER</th>\n",
       "      <th>age_middle_age_people</th>\n",
       "      <th>age_old_people</th>\n",
       "      <th>age_young_people</th>\n",
       "      <th>signup_method_facebook</th>\n",
       "      <th>signup_method_google</th>\n",
       "      <th>signup_flow_1</th>\n",
       "      <th>signup_flow_2</th>\n",
       "      <th>...</th>\n",
       "      <th>first_browser_Silk</th>\n",
       "      <th>first_browser_SiteKiosk</th>\n",
       "      <th>first_browser_SlimBrowser</th>\n",
       "      <th>first_browser_Sogou Explorer</th>\n",
       "      <th>first_browser_Stainless</th>\n",
       "      <th>first_browser_TenFourFox</th>\n",
       "      <th>first_browser_TheWorld Browser</th>\n",
       "      <th>first_browser_Yandex.Browser</th>\n",
       "      <th>first_browser_wOSBrowser</th>\n",
       "      <th>country_destination</th>\n",
       "    </tr>\n",
       "  </thead>\n",
       "  <tbody>\n",
       "    <tr>\n",
       "      <th>0</th>\n",
       "      <td>466.0</td>\n",
       "      <td>0</td>\n",
       "      <td>1</td>\n",
       "      <td>0</td>\n",
       "      <td>0</td>\n",
       "      <td>0</td>\n",
       "      <td>1</td>\n",
       "      <td>0</td>\n",
       "      <td>0</td>\n",
       "      <td>0</td>\n",
       "      <td>...</td>\n",
       "      <td>0</td>\n",
       "      <td>0</td>\n",
       "      <td>0</td>\n",
       "      <td>0</td>\n",
       "      <td>0</td>\n",
       "      <td>0</td>\n",
       "      <td>0</td>\n",
       "      <td>0</td>\n",
       "      <td>0</td>\n",
       "      <td>1</td>\n",
       "    </tr>\n",
       "    <tr>\n",
       "      <th>1</th>\n",
       "      <td>732.0</td>\n",
       "      <td>1</td>\n",
       "      <td>0</td>\n",
       "      <td>1</td>\n",
       "      <td>0</td>\n",
       "      <td>0</td>\n",
       "      <td>1</td>\n",
       "      <td>0</td>\n",
       "      <td>0</td>\n",
       "      <td>0</td>\n",
       "      <td>...</td>\n",
       "      <td>0</td>\n",
       "      <td>0</td>\n",
       "      <td>0</td>\n",
       "      <td>0</td>\n",
       "      <td>0</td>\n",
       "      <td>0</td>\n",
       "      <td>0</td>\n",
       "      <td>0</td>\n",
       "      <td>0</td>\n",
       "      <td>1</td>\n",
       "    </tr>\n",
       "    <tr>\n",
       "      <th>2</th>\n",
       "      <td>476.0</td>\n",
       "      <td>0</td>\n",
       "      <td>0</td>\n",
       "      <td>0</td>\n",
       "      <td>1</td>\n",
       "      <td>0</td>\n",
       "      <td>0</td>\n",
       "      <td>0</td>\n",
       "      <td>0</td>\n",
       "      <td>0</td>\n",
       "      <td>...</td>\n",
       "      <td>0</td>\n",
       "      <td>0</td>\n",
       "      <td>0</td>\n",
       "      <td>0</td>\n",
       "      <td>0</td>\n",
       "      <td>0</td>\n",
       "      <td>0</td>\n",
       "      <td>0</td>\n",
       "      <td>0</td>\n",
       "      <td>0</td>\n",
       "    </tr>\n",
       "    <tr>\n",
       "      <th>3</th>\n",
       "      <td>765.0</td>\n",
       "      <td>0</td>\n",
       "      <td>0</td>\n",
       "      <td>1</td>\n",
       "      <td>0</td>\n",
       "      <td>0</td>\n",
       "      <td>1</td>\n",
       "      <td>0</td>\n",
       "      <td>0</td>\n",
       "      <td>0</td>\n",
       "      <td>...</td>\n",
       "      <td>0</td>\n",
       "      <td>0</td>\n",
       "      <td>0</td>\n",
       "      <td>0</td>\n",
       "      <td>0</td>\n",
       "      <td>0</td>\n",
       "      <td>0</td>\n",
       "      <td>0</td>\n",
       "      <td>0</td>\n",
       "      <td>0</td>\n",
       "    </tr>\n",
       "    <tr>\n",
       "      <th>4</th>\n",
       "      <td>280.0</td>\n",
       "      <td>0</td>\n",
       "      <td>1</td>\n",
       "      <td>1</td>\n",
       "      <td>0</td>\n",
       "      <td>0</td>\n",
       "      <td>0</td>\n",
       "      <td>0</td>\n",
       "      <td>0</td>\n",
       "      <td>0</td>\n",
       "      <td>...</td>\n",
       "      <td>0</td>\n",
       "      <td>0</td>\n",
       "      <td>0</td>\n",
       "      <td>0</td>\n",
       "      <td>0</td>\n",
       "      <td>0</td>\n",
       "      <td>0</td>\n",
       "      <td>0</td>\n",
       "      <td>0</td>\n",
       "      <td>0</td>\n",
       "    </tr>\n",
       "  </tbody>\n",
       "</table>\n",
       "<p>5 rows × 139 columns</p>\n",
       "</div>"
      ],
      "text/plain": [
       "     gap  gender_MALE  gender_OTHER  age_middle_age_people  age_old_people  \\\n",
       "0  466.0            0             1                      0               0   \n",
       "1  732.0            1             0                      1               0   \n",
       "2  476.0            0             0                      0               1   \n",
       "3  765.0            0             0                      1               0   \n",
       "4  280.0            0             1                      1               0   \n",
       "\n",
       "   age_young_people  signup_method_facebook  signup_method_google  \\\n",
       "0                 0                       1                     0   \n",
       "1                 0                       1                     0   \n",
       "2                 0                       0                     0   \n",
       "3                 0                       1                     0   \n",
       "4                 0                       0                     0   \n",
       "\n",
       "   signup_flow_1  signup_flow_2         ...           first_browser_Silk  \\\n",
       "0              0              0         ...                            0   \n",
       "1              0              0         ...                            0   \n",
       "2              0              0         ...                            0   \n",
       "3              0              0         ...                            0   \n",
       "4              0              0         ...                            0   \n",
       "\n",
       "   first_browser_SiteKiosk  first_browser_SlimBrowser  \\\n",
       "0                        0                          0   \n",
       "1                        0                          0   \n",
       "2                        0                          0   \n",
       "3                        0                          0   \n",
       "4                        0                          0   \n",
       "\n",
       "   first_browser_Sogou Explorer  first_browser_Stainless  \\\n",
       "0                             0                        0   \n",
       "1                             0                        0   \n",
       "2                             0                        0   \n",
       "3                             0                        0   \n",
       "4                             0                        0   \n",
       "\n",
       "   first_browser_TenFourFox  first_browser_TheWorld Browser  \\\n",
       "0                         0                               0   \n",
       "1                         0                               0   \n",
       "2                         0                               0   \n",
       "3                         0                               0   \n",
       "4                         0                               0   \n",
       "\n",
       "   first_browser_Yandex.Browser  first_browser_wOSBrowser  country_destination  \n",
       "0                             0                         0                    1  \n",
       "1                             0                         0                    1  \n",
       "2                             0                         0                    0  \n",
       "3                             0                         0                    0  \n",
       "4                             0                         0                    0  \n",
       "\n",
       "[5 rows x 139 columns]"
      ]
     },
     "execution_count": 8,
     "metadata": {},
     "output_type": "execute_result"
    }
   ],
   "source": [
    "data_df_1.head()"
   ]
  },
  {
   "cell_type": "code",
   "execution_count": 9,
   "metadata": {},
   "outputs": [
    {
     "data": {
      "text/plain": [
       "(213451, 139)"
      ]
     },
     "execution_count": 9,
     "metadata": {},
     "output_type": "execute_result"
    }
   ],
   "source": [
    "data_df_1.shape"
   ]
  },
  {
   "cell_type": "code",
   "execution_count": 10,
   "metadata": {},
   "outputs": [
    {
     "name": "stdout",
     "output_type": "stream",
     "text": [
      "(149415, 138)\n",
      "(42690, 138)\n",
      "(21346, 138)\n",
      "(149415,)\n",
      "(42690,)\n",
      "(21346,)\n"
     ]
    }
   ],
   "source": [
    "# Splitting the data to 70% training, 20% validating and 10% testing\n",
    "np.random.seed(101)\n",
    "data = np.random.permutation(data_df_1)\n",
    "train, validate, test = np.split(data, [int(.7*len(data)), int(.9*len(data))])\n",
    "\n",
    "X_train = train[:, :-1]\n",
    "Y_train = train[:, -1]\n",
    "X_test = validate[:, :-1]\n",
    "Y_test = validate[:, -1]\n",
    "X_final = test[:, :-1]\n",
    "Y_final = test[:, -1]\n",
    "\n",
    "print(X_train.shape)\n",
    "print(X_test.shape)\n",
    "print(X_final.shape)\n",
    "print(Y_train.shape)\n",
    "print(Y_test.shape)\n",
    "print(Y_final.shape)"
   ]
  },
  {
   "cell_type": "code",
   "execution_count": 11,
   "metadata": {},
   "outputs": [
    {
     "name": "stdout",
     "output_type": "stream",
     "text": [
      "0.582485024931 0.584680252987\n"
     ]
    }
   ],
   "source": [
    "print(sum(Y_train)/len(Y_train), sum(Y_test)/len(Y_test))"
   ]
  },
  {
   "cell_type": "code",
   "execution_count": 12,
   "metadata": {},
   "outputs": [
    {
     "data": {
      "text/plain": [
       "array([[-0.0192129 , -0.58565845, -0.90505087, ..., -0.00258705,\n",
       "        -0.00818121, -0.00517415],\n",
       "       [-0.0192129 , -0.58565845, -0.90505087, ..., -0.00258705,\n",
       "        -0.00818121, -0.00517415],\n",
       "       [-0.0192129 ,  1.70747985, -0.90505087, ..., -0.00258705,\n",
       "        -0.00818121, -0.00517415],\n",
       "       ..., \n",
       "       [-0.0192129 , -0.58565845,  1.10491027, ..., -0.00258705,\n",
       "        -0.00818121, -0.00517415],\n",
       "       [-0.0192129 , -0.58565845,  1.10491027, ..., -0.00258705,\n",
       "        -0.00818121, -0.00517415],\n",
       "       [-0.0192129 , -0.58565845, -0.90505087, ..., -0.00258705,\n",
       "        -0.00818121, -0.00517415]])"
      ]
     },
     "execution_count": 12,
     "metadata": {},
     "output_type": "execute_result"
    }
   ],
   "source": [
    "# Standardize variables\n",
    "scaler = StandardScaler()\n",
    "scaler.fit(X_train) # use train data to fit\n",
    "X_test = scaler.transform(X_test)\n",
    "X_final = scaler.transform(X_final)\n",
    "X_train = scaler.transform(X_train)\n",
    "X_train"
   ]
  },
  {
   "cell_type": "code",
   "execution_count": 16,
   "metadata": {},
   "outputs": [],
   "source": [
    "# Try gridsearch for tuning parameters\n",
    "#parameters = {'C':[0.1, 1, 10, 20], 'tol':[1e-05, 1e-04, 0.001]}\n",
    "#clf = GridSearchCV(model1, parameters, cv=5, scoring='accuracy')\n",
    "#clf.fit(X_train, Y_train)\n",
    "#clf.best_estimator_, clf.best_params_, clf.cv_results_['params'], clf.cv_results_['mean_test_score']"
   ]
  },
  {
   "cell_type": "code",
   "execution_count": 13,
   "metadata": {},
   "outputs": [
    {
     "data": {
      "text/plain": [
       "LogisticRegression(C=1.0, class_weight=None, dual=False, fit_intercept=True,\n",
       "          intercept_scaling=1, max_iter=100, multi_class='ovr', n_jobs=1,\n",
       "          penalty='l2', random_state=None, solver='liblinear', tol=0.0001,\n",
       "          verbose=0, warm_start=False)"
      ]
     },
     "execution_count": 13,
     "metadata": {},
     "output_type": "execute_result"
    }
   ],
   "source": [
    "model1 = LogisticRegression()\n",
    "model1.fit(X_train, Y_train)"
   ]
  },
  {
   "cell_type": "code",
   "execution_count": 14,
   "metadata": {},
   "outputs": [
    {
     "name": "stdout",
     "output_type": "stream",
     "text": [
      "             precision    recall  f1-score   support\n",
      "\n",
      "         no       0.66      0.53      0.59     17730\n",
      "        yes       0.71      0.81      0.75     24960\n",
      "\n",
      "avg / total       0.69      0.69      0.69     42690\n",
      "\n"
     ]
    }
   ],
   "source": [
    "print(classification_report(y_true=Y_test, y_pred=model1.predict(X_test), target_names=['no', 'yes']))"
   ]
  },
  {
   "cell_type": "markdown",
   "metadata": {},
   "source": [
    "### Second model"
   ]
  },
  {
   "cell_type": "code",
   "execution_count": 18,
   "metadata": {},
   "outputs": [
    {
     "data": {
      "text/html": [
       "<div>\n",
       "<style>\n",
       "    .dataframe thead tr:only-child th {\n",
       "        text-align: right;\n",
       "    }\n",
       "\n",
       "    .dataframe thead th {\n",
       "        text-align: left;\n",
       "    }\n",
       "\n",
       "    .dataframe tbody tr th {\n",
       "        vertical-align: top;\n",
       "    }\n",
       "</style>\n",
       "<table border=\"1\" class=\"dataframe\">\n",
       "  <thead>\n",
       "    <tr style=\"text-align: right;\">\n",
       "      <th></th>\n",
       "      <th>id</th>\n",
       "      <th>date_account_created</th>\n",
       "      <th>timestamp_first_active</th>\n",
       "      <th>date_first_booking</th>\n",
       "      <th>gender</th>\n",
       "      <th>age</th>\n",
       "      <th>signup_method</th>\n",
       "      <th>signup_flow</th>\n",
       "      <th>language</th>\n",
       "      <th>affiliate_channel</th>\n",
       "      <th>affiliate_provider</th>\n",
       "      <th>first_affiliate_tracked</th>\n",
       "      <th>signup_app</th>\n",
       "      <th>first_device_type</th>\n",
       "      <th>first_browser</th>\n",
       "      <th>country_destination</th>\n",
       "    </tr>\n",
       "  </thead>\n",
       "  <tbody>\n",
       "    <tr>\n",
       "      <th>0</th>\n",
       "      <td>4ft3gnwmtx</td>\n",
       "      <td>2010-09-28</td>\n",
       "      <td>20090609231247</td>\n",
       "      <td>2010-08-02</td>\n",
       "      <td>FEMALE</td>\n",
       "      <td>56.0</td>\n",
       "      <td>basic</td>\n",
       "      <td>3</td>\n",
       "      <td>en</td>\n",
       "      <td>direct</td>\n",
       "      <td>direct</td>\n",
       "      <td>untracked</td>\n",
       "      <td>Web</td>\n",
       "      <td>Windows Desktop</td>\n",
       "      <td>IE</td>\n",
       "      <td>US</td>\n",
       "    </tr>\n",
       "    <tr>\n",
       "      <th>1</th>\n",
       "      <td>bjjt8pjhuk</td>\n",
       "      <td>2011-12-05</td>\n",
       "      <td>20091031060129</td>\n",
       "      <td>2012-09-08</td>\n",
       "      <td>FEMALE</td>\n",
       "      <td>42.0</td>\n",
       "      <td>facebook</td>\n",
       "      <td>0</td>\n",
       "      <td>en</td>\n",
       "      <td>direct</td>\n",
       "      <td>direct</td>\n",
       "      <td>untracked</td>\n",
       "      <td>Web</td>\n",
       "      <td>Mac Desktop</td>\n",
       "      <td>Firefox</td>\n",
       "      <td>other</td>\n",
       "    </tr>\n",
       "    <tr>\n",
       "      <th>2</th>\n",
       "      <td>87mebub9p4</td>\n",
       "      <td>2010-09-14</td>\n",
       "      <td>20091208061105</td>\n",
       "      <td>2010-02-18</td>\n",
       "      <td>OTHER</td>\n",
       "      <td>41.0</td>\n",
       "      <td>basic</td>\n",
       "      <td>0</td>\n",
       "      <td>en</td>\n",
       "      <td>direct</td>\n",
       "      <td>direct</td>\n",
       "      <td>untracked</td>\n",
       "      <td>Web</td>\n",
       "      <td>Mac Desktop</td>\n",
       "      <td>Chrome</td>\n",
       "      <td>US</td>\n",
       "    </tr>\n",
       "    <tr>\n",
       "      <th>3</th>\n",
       "      <td>osr2jwljor</td>\n",
       "      <td>2010-01-01</td>\n",
       "      <td>20100101215619</td>\n",
       "      <td>2010-01-02</td>\n",
       "      <td>OTHER</td>\n",
       "      <td>NaN</td>\n",
       "      <td>basic</td>\n",
       "      <td>0</td>\n",
       "      <td>en</td>\n",
       "      <td>other</td>\n",
       "      <td>other</td>\n",
       "      <td>omg</td>\n",
       "      <td>Web</td>\n",
       "      <td>Mac Desktop</td>\n",
       "      <td>Chrome</td>\n",
       "      <td>US</td>\n",
       "    </tr>\n",
       "    <tr>\n",
       "      <th>4</th>\n",
       "      <td>lsw9q7uk0j</td>\n",
       "      <td>2010-01-02</td>\n",
       "      <td>20100102012558</td>\n",
       "      <td>2010-01-05</td>\n",
       "      <td>FEMALE</td>\n",
       "      <td>46.0</td>\n",
       "      <td>basic</td>\n",
       "      <td>0</td>\n",
       "      <td>en</td>\n",
       "      <td>other</td>\n",
       "      <td>craigslist</td>\n",
       "      <td>untracked</td>\n",
       "      <td>Web</td>\n",
       "      <td>Mac Desktop</td>\n",
       "      <td>Safari</td>\n",
       "      <td>US</td>\n",
       "    </tr>\n",
       "  </tbody>\n",
       "</table>\n",
       "</div>"
      ],
      "text/plain": [
       "           id date_account_created  timestamp_first_active date_first_booking  \\\n",
       "0  4ft3gnwmtx           2010-09-28          20090609231247         2010-08-02   \n",
       "1  bjjt8pjhuk           2011-12-05          20091031060129         2012-09-08   \n",
       "2  87mebub9p4           2010-09-14          20091208061105         2010-02-18   \n",
       "3  osr2jwljor           2010-01-01          20100101215619         2010-01-02   \n",
       "4  lsw9q7uk0j           2010-01-02          20100102012558         2010-01-05   \n",
       "\n",
       "   gender   age signup_method  signup_flow language affiliate_channel  \\\n",
       "0  FEMALE  56.0         basic            3       en            direct   \n",
       "1  FEMALE  42.0      facebook            0       en            direct   \n",
       "2   OTHER  41.0         basic            0       en            direct   \n",
       "3   OTHER   NaN         basic            0       en             other   \n",
       "4  FEMALE  46.0         basic            0       en             other   \n",
       "\n",
       "  affiliate_provider first_affiliate_tracked signup_app first_device_type  \\\n",
       "0             direct               untracked        Web   Windows Desktop   \n",
       "1             direct               untracked        Web       Mac Desktop   \n",
       "2             direct               untracked        Web       Mac Desktop   \n",
       "3              other                     omg        Web       Mac Desktop   \n",
       "4         craigslist               untracked        Web       Mac Desktop   \n",
       "\n",
       "  first_browser country_destination  \n",
       "0            IE                  US  \n",
       "1       Firefox               other  \n",
       "2        Chrome                  US  \n",
       "3        Chrome                  US  \n",
       "4        Safari                  US  "
      ]
     },
     "execution_count": 18,
     "metadata": {},
     "output_type": "execute_result"
    }
   ],
   "source": [
    "had_first_book = train_data[train_data.country_destination != 'NDF']\n",
    "had_first_book.reset_index(drop=True, inplace=True)\n",
    "had_first_book.head()"
   ]
  },
  {
   "cell_type": "code",
   "execution_count": 19,
   "metadata": {
    "collapsed": true
   },
   "outputs": [],
   "source": [
    "# deal with time\n",
    "booking_year = []\n",
    "booking_month = []\n",
    "for i in had_first_book.date_first_booking:\n",
    "    y, m, d = i.split('-')\n",
    "    booking_year.append(y)\n",
    "    booking_month.append(m)\n",
    "    \n",
    "first_booking_y = pd.get_dummies(pd.Series(booking_year), prefix='first_booking_y', drop_first=True)\n",
    "first_booking_m = pd.get_dummies(pd.Series(booking_month), prefix='first_booking_m', drop_first=True)"
   ]
  },
  {
   "cell_type": "code",
   "execution_count": 20,
   "metadata": {},
   "outputs": [],
   "source": [
    "gender, age, signup_method, signup_flow, language, affiliate_channel, affiliate_provider, first_tracked, signup_app, first_device, first_browser = rearrange_data(had_first_book)"
   ]
  },
  {
   "cell_type": "code",
   "execution_count": 21,
   "metadata": {
    "collapsed": true
   },
   "outputs": [],
   "source": [
    "le = LabelEncoder()\n",
    "le.fit(had_first_book.country_destination.unique())\n",
    "second_model_label = pd.Series(le.transform(had_first_book.country_destination))"
   ]
  },
  {
   "cell_type": "code",
   "execution_count": 22,
   "metadata": {
    "collapsed": true
   },
   "outputs": [],
   "source": [
    "data_df_2 = pd.concat([first_booking_y, first_booking_m, gender, age, signup_method, signup_flow, \n",
    "                       language, affiliate_channel, affiliate_provider, first_tracked, signup_app, first_device,\n",
    "                       first_browser, second_model_label], axis=1)"
   ]
  },
  {
   "cell_type": "code",
   "execution_count": 23,
   "metadata": {},
   "outputs": [
    {
     "data": {
      "text/plain": [
       "(88908, 138)"
      ]
     },
     "execution_count": 23,
     "metadata": {},
     "output_type": "execute_result"
    }
   ],
   "source": [
    "data_df_2.shape"
   ]
  },
  {
   "cell_type": "code",
   "execution_count": 24,
   "metadata": {},
   "outputs": [
    {
     "name": "stdout",
     "output_type": "stream",
     "text": [
      "(62235, 137)\n",
      "(17782, 137)\n",
      "(8891, 137)\n",
      "(62235,)\n",
      "(17782,)\n",
      "(8891,)\n"
     ]
    }
   ],
   "source": [
    "# Splitting the data to 70% training, 20% validating and 10% testing\n",
    "np.random.seed(101)\n",
    "data = np.random.permutation(data_df_2)\n",
    "train, validate, test = np.split(data, [int(.7*len(data)), int(.9*len(data))])\n",
    "\n",
    "X_train = train[:, :-1]\n",
    "Y_train = train[:, -1]\n",
    "X_test = validate[:, :-1]\n",
    "Y_test = validate[:, -1]\n",
    "X_final = test[:, :-1]\n",
    "Y_final = test[:, -1]\n",
    "\n",
    "print(X_train.shape)\n",
    "print(X_test.shape)\n",
    "print(X_final.shape)\n",
    "print(Y_train.shape)\n",
    "print(Y_test.shape)\n",
    "print(Y_final.shape)"
   ]
  },
  {
   "cell_type": "code",
   "execution_count": 26,
   "metadata": {},
   "outputs": [
    {
     "data": {
      "text/plain": [
       "array([[-0.26320103, -0.47215656, -0.73685329, ..., -0.00566898,\n",
       "        -0.00400854, -0.00566898],\n",
       "       [-0.26320103, -0.47215656, -0.73685329, ..., -0.00566898,\n",
       "        -0.00400854, -0.00566898],\n",
       "       [-0.26320103,  2.11794157, -0.73685329, ..., -0.00566898,\n",
       "        -0.00400854, -0.00566898],\n",
       "       ..., \n",
       "       [-0.26320103,  2.11794157, -0.73685329, ..., -0.00566898,\n",
       "        -0.00400854, -0.00566898],\n",
       "       [-0.26320103,  2.11794157, -0.73685329, ..., -0.00566898,\n",
       "        -0.00400854, -0.00566898],\n",
       "       [-0.26320103, -0.47215656, -0.73685329, ..., -0.00566898,\n",
       "        -0.00400854, -0.00566898]])"
      ]
     },
     "execution_count": 26,
     "metadata": {},
     "output_type": "execute_result"
    }
   ],
   "source": [
    "# Standardize variables\n",
    "scaler = StandardScaler()\n",
    "scaler.fit(X_train) # use train data to fit\n",
    "X_test = scaler.transform(X_test)\n",
    "X_final = scaler.transform(X_final)\n",
    "X_train = scaler.transform(X_train)\n",
    "X_train"
   ]
  },
  {
   "cell_type": "code",
   "execution_count": 29,
   "metadata": {},
   "outputs": [],
   "source": [
    "#pd.set_option('display.max_columns', None)"
   ]
  },
  {
   "cell_type": "code",
   "execution_count": 30,
   "metadata": {},
   "outputs": [
    {
     "data": {
      "text/plain": [
       "(213451, 139)"
      ]
     },
     "execution_count": 30,
     "metadata": {},
     "output_type": "execute_result"
    }
   ],
   "source": [
    "data_df_1.shape"
   ]
  },
  {
   "cell_type": "code",
   "execution_count": 31,
   "metadata": {},
   "outputs": [
    {
     "data": {
      "text/plain": [
       "(88908, 138)"
      ]
     },
     "execution_count": 31,
     "metadata": {},
     "output_type": "execute_result"
    }
   ],
   "source": [
    "data_df_2.shape"
   ]
  },
  {
   "cell_type": "code",
   "execution_count": null,
   "metadata": {
    "collapsed": true
   },
   "outputs": [],
   "source": []
  }
 ],
 "metadata": {
  "kernelspec": {
   "display_name": "Python 3",
   "language": "python",
   "name": "python3"
  },
  "language_info": {
   "codemirror_mode": {
    "name": "ipython",
    "version": 3
   },
   "file_extension": ".py",
   "mimetype": "text/x-python",
   "name": "python",
   "nbconvert_exporter": "python",
   "pygments_lexer": "ipython3",
   "version": "3.6.1"
  }
 },
 "nbformat": 4,
 "nbformat_minor": 2
}
