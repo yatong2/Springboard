{
 "cells": [
  {
   "cell_type": "markdown",
   "metadata": {},
   "source": [
    "# What is the True Normal Human Body Temperature? \n",
    "\n",
    "#### Background\n",
    "\n",
    "The mean normal body temperature was held to be 37$^{\\circ}$C or 98.6$^{\\circ}$F for more than 120 years since it was first conceptualized and reported by Carl Wunderlich in a famous 1868 book. But, is this value statistically correct?"
   ]
  },
  {
   "cell_type": "markdown",
   "metadata": {},
   "source": [
    "<h3>Exercises</h3>\n",
    "\n",
    "<p>In this exercise, you will analyze a dataset of human body temperatures and employ the concepts of hypothesis testing, confidence intervals, and statistical significance.</p>\n",
    "\n",
    "<p>Answer the following questions <b>in this notebook below and submit to your Github account</b>.</p> \n",
    "\n",
    "<ol>\n",
    "<li>  Is the distribution of body temperatures normal? \n",
    "    <ul>\n",
    "    <li> Although this is not a requirement for CLT to hold (read CLT carefully), it gives us some peace of mind that the population may also be normally distributed if we assume that this sample is representative of the population.\n",
    "    </ul>\n",
    "<li>  Is the sample size large? Are the observations independent?\n",
    "    <ul>\n",
    "    <li> Remember that this is a condition for the CLT, and hence the statistical tests we are using, to apply.\n",
    "    </ul>\n",
    "<li>  Is the true population mean really 98.6 degrees F?\n",
    "    <ul>\n",
    "    <li> Would you use a one-sample or two-sample test? Why?\n",
    "    <li> In this situation, is it appropriate to use the $t$ or $z$ statistic? \n",
    "    <li> Now try using the other test. How is the result be different? Why?\n",
    "    </ul>\n",
    "<li>  Draw a small sample of size 10 from the data and repeat both tests. \n",
    "    <ul>\n",
    "    <li> Which one is the correct one to use? \n",
    "    <li> What do you notice? What does this tell you about the difference in application of the $t$ and $z$ statistic?\n",
    "    </ul>\n",
    "<li>  At what temperature should we consider someone's temperature to be \"abnormal\"?\n",
    "    <ul>\n",
    "    <li> Start by computing the margin of error and confidence interval.\n",
    "    </ul>\n",
    "<li>  Is there a significant difference between males and females in normal temperature?\n",
    "    <ul>\n",
    "    <li> What test did you use and why?\n",
    "    <li> Write a story with your conclusion in the context of the original problem.\n",
    "    </ul>\n",
    "</ol>\n",
    "\n",
    "You can include written notes in notebook cells using Markdown: \n",
    "   - In the control panel at the top, choose Cell > Cell Type > Markdown\n",
    "   - Markdown syntax: http://nestacms.com/docs/creating-content/markdown-cheat-sheet\n",
    "\n",
    "#### Resources\n",
    "\n",
    "+ Information and data sources: http://www.amstat.org/publications/jse/datasets/normtemp.txt, http://www.amstat.org/publications/jse/jse_data_archive.htm\n",
    "+ Markdown syntax: http://nestacms.com/docs/creating-content/markdown-cheat-sheet\n",
    "\n",
    "****"
   ]
  },
  {
   "cell_type": "code",
   "execution_count": 4,
   "metadata": {},
   "outputs": [],
   "source": [
    "import pandas as pd\n",
    "import matplotlib.pyplot as plt\n",
    "import numpy as np\n",
    "%matplotlib inline\n",
    "from scipy.stats import ttest_1samp\n",
    "from scipy.stats import ttest_ind\n",
    "from statsmodels.stats.weightstats import ztest\n",
    "from scipy.stats import norm\n",
    "\n",
    "df = pd.read_csv('data/human_body_temperature.csv')"
   ]
  },
  {
   "cell_type": "code",
   "execution_count": 3,
   "metadata": {},
   "outputs": [
    {
     "data": {
      "image/png": "[encoded data removed]",
      "text/plain": [
       "<matplotlib.figure.Figure at 0x11694fa58>"
      ]
     },
     "metadata": {},
     "output_type": "display_data"
    }
   ],
   "source": [
    "# Your work here.\n",
    "# 1. Plot to see whether the distribution is normal\n",
    "unique, counts = np.unique(df.temperature, return_counts=True)\n",
    "plt.bar(unique, counts)\n",
    "plt.grid()"
   ]
  },
  {
   "cell_type": "markdown",
   "metadata": {},
   "source": [
    "#### Answer for Q1: \n",
    "\n",
    "The distribution of body temperature can be suggested to be normal from the above plot. "
   ]
  },
  {
   "cell_type": "code",
   "execution_count": 4,
   "metadata": {},
   "outputs": [
    {
     "name": "stdout",
     "output_type": "stream",
     "text": [
      "The sample size is: 130\n"
     ]
    }
   ],
   "source": [
    "# 2. Calculate the sample size\n",
    "print('The sample size is: {}'.format(len(df.temperature)))"
   ]
  },
  {
   "cell_type": "markdown",
   "metadata": {
    "collapsed": true
   },
   "source": [
    "#### Answer for Q2: \n",
    "\n",
    "This is a relatively large sample size as we can usually use CLT for sample size larger than 30. \n",
    "\n",
    "The observations should be independent because one person's body temperature does not relate to other people's body temperature."
   ]
  },
  {
   "cell_type": "code",
   "execution_count": 49,
   "metadata": {},
   "outputs": [
    {
     "name": "stdout",
     "output_type": "stream",
     "text": [
      "The sample mean is: 98.2\n",
      "Null Hypothesis: the expected value of the sample is equal to the given population mean\n",
      "Z-test score: -5.45   P-value for Z-test: 0.00000005\n",
      "T-test score: -5.45   P-value for T-test: 0.0000002\n"
     ]
    }
   ],
   "source": [
    "# 3.Calculating the Z statistic and T statistic \n",
    "print('The sample mean is: %.1f' % np.mean(df.temperature))\n",
    "\n",
    "print('Null Hypothesis: the expected value of the sample is equal to the given population mean')\n",
    "\n",
    "z_score, p_value_2 = ztest(df.temperature, value=98.6)\n",
    "print('Z-test score: %.2f  ' % z_score, 'P-value for Z-test: %.8f' %p_value_2)\n",
    "\n",
    "t_score, p_value = ttest_1samp(df.temperature, 98.6)\n",
    "print('T-test score: %.2f  ' % t_score, 'P-value for T-test: %.7f' % p_value)"
   ]
  },
  {
   "cell_type": "markdown",
   "metadata": {},
   "source": [
    "#### Answers for Q3: \n",
    "\n",
    "The true population mean is not really 98.6 degrees F. Let null hypothesis be that the expected value of the sample is equal to the given population mean, suggest null hypothesis is true and calculate the z-test p value. From the above, it is obvious that the p-value is very low (much lower than the usual significant level 5%) so the null hypothesis should be rejected. \n",
    "\n",
    "I used a one-sample test because the situation here is not comparing two different samples' mean but comparing the sample mean with the suggested population mean. \n",
    "\n",
    "In this situation, it is appropriate to use the z statistic because the sample size is large enough to suggest a normal distribution for sampling distribution. However, t statistic might also be appropriate because it can be used under the situation that population standard deviation is unknown. \n",
    "\n",
    "Using t-test gives a relatively larger p value because it would suggest a t distribution and t distribution estimates a larger variance of the sampling distribution than the normal distribution."
   ]
  },
  {
   "cell_type": "code",
   "execution_count": 50,
   "metadata": {},
   "outputs": [
    {
     "name": "stdout",
     "output_type": "stream",
     "text": [
      "Z-test score: -1.81   P-value for Z-test: 0.0710\n",
      "T-test score: -1.81   P-value for T-test: 0.1045\n"
     ]
    }
   ],
   "source": [
    "# 4. Randomly choose 10 samples from the data and calculate the Z and T statistic\n",
    "np.random.seed(199)\n",
    "small_sample = np.random.choice(df.temperature, 10)\n",
    "\n",
    "z_score, p_value_2 = ztest(small_sample, value=98.6)\n",
    "print('Z-test score: %.2f  ' % z_score, 'P-value for Z-test: %.4f' %p_value_2)\n",
    "\n",
    "t_score, p_value = ttest_1samp(small_sample, 98.6)\n",
    "print('T-test score: %.2f  ' % t_score, 'P-value for T-test: %.4f' % p_value)"
   ]
  },
  {
   "cell_type": "markdown",
   "metadata": {},
   "source": [
    "#### Answer for Q4: \n",
    "\n",
    "T-test is the correct one to use in this case. \n",
    "\n",
    "The difference of p-values for z-test and t-test is significant now comparing with the difference for using the whole 130 samples of the data. In this case, t statistic is appropriate to use since it gives a larger p value and is more strict with the confidence in rejecting the null hypothesis. \n",
    "\n",
    "Hence, the application of t statistic is for relatively smaller sample size and the application of z statistic is for relatively larger sample size."
   ]
  },
  {
   "cell_type": "code",
   "execution_count": 20,
   "metadata": {},
   "outputs": [
    {
     "name": "stdout",
     "output_type": "stream",
     "text": [
      "The temperature out of this range (96.82, 99.68) is considered abnormal. The margin of error is 1.43.\n"
     ]
    }
   ],
   "source": [
    "# Calculate the margin of error and the confidence interval\n",
    "mu = np.mean(df.temperature)\n",
    "sigma = np.std(df.temperature)\n",
    "lower, upper = norm.interval(0.95, loc=mu, scale=sigma)\n",
    "margin_of_error = (upper - mu)\n",
    "print('The temperature out of this range (%2.2f, %2.2f) is considered abnormal. The margin of error is %.2f.' \n",
    "      %(lower, upper, margin_of_error))"
   ]
  },
  {
   "cell_type": "markdown",
   "metadata": {},
   "source": [
    "#### Answer for Q5: \n",
    "\n",
    "At a temperature that is lower than 96.82 degrees F or higher than 99.68 degrees F, we should consider this person's temperature to be abnormal. The margin of error is 1.43 degrees F. "
   ]
  },
  {
   "cell_type": "code",
   "execution_count": null,
   "metadata": {
    "collapsed": true
   },
   "outputs": [],
   "source": [
    "Is there a significant difference between males and females in normal temperature?\n",
    "What test did you use and why?\n",
    "Write a story with your conclusion in the context of the original problem."
   ]
  },
  {
   "cell_type": "code",
   "execution_count": 24,
   "metadata": {},
   "outputs": [],
   "source": [
    "f_temp = df.temperature[df.gender == 'F']\n",
    "m_temp = df.temperature[df.gender == 'M']"
   ]
  },
  {
   "cell_type": "code",
   "execution_count": 26,
   "metadata": {},
   "outputs": [
    {
     "name": "stdout",
     "output_type": "stream",
     "text": [
      "65 65\n"
     ]
    }
   ],
   "source": [
    "print(len(f_temp), len(m_temp))"
   ]
  },
  {
   "cell_type": "code",
   "execution_count": 38,
   "metadata": {},
   "outputs": [
    {
     "name": "stdout",
     "output_type": "stream",
     "text": [
      "Null Hypothesis: There is no difference between males and females in normal temperature.\n",
      "Z-test score: 2.29   P-value for Z-test: 0.0223\n",
      "T-test score: 2.29   P-value for T-test: 0.0239\n"
     ]
    }
   ],
   "source": [
    "print('Null Hypothesis: There is no difference between males and females in normal temperature.')\n",
    "\n",
    "z_score, p_value_2 = ztest(f_temp, m_temp)\n",
    "print('Z-test score: %.2f  ' % z_score, 'P-value for Z-test: %.4f' % p_value_2)\n",
    "\n",
    "t_score, p_value = ttest_ind(f_temp, m_temp)\n",
    "print('T-test score: %.2f  ' % t_score, 'P-value for T-test: %.4f' % p_value)"
   ]
  },
  {
   "cell_type": "markdown",
   "metadata": {},
   "source": [
    "#### Answer to Q6: \n",
    "\n",
    "I would use z test since the sample size for females and males are both large enough to assume normal distribution. However, since we do not know the standard deviation of the females and males population, we might also use t test. As we can see above, either using z test or t test, the p values are both below 5% significance level. Hence, we can reject the null hypothesis and say that there might be a significant difference between females and males in normal temperature. "
   ]
  },
  {
   "cell_type": "code",
   "execution_count": null,
   "metadata": {
    "collapsed": true
   },
   "outputs": [],
   "source": []
  }
 ],
 "metadata": {
  "kernelspec": {
   "display_name": "Python 3",
   "language": "python",
   "name": "python3"
  },
  "language_info": {
   "codemirror_mode": {
    "name": "ipython",
    "version": 3
   },
   "file_extension": ".py",
   "mimetype": "text/x-python",
   "name": "python",
   "nbconvert_exporter": "python",
   "pygments_lexer": "ipython3",
   "version": "3.6.1"
  }
 },
 "nbformat": 4,
 "nbformat_minor": 1
}
