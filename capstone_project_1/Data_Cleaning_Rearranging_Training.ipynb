{
 "cells": [
  {
   "cell_type": "code",
   "execution_count": 1,
   "metadata": {
    "collapsed": true
   },
   "outputs": [],
   "source": [
    "import pandas as pd\n",
    "import numpy as np\n",
    "\n",
    "from sklearn.linear_model import LogisticRegression\n",
    "from sklearn.metrics import classification_report\n",
    "from sklearn.model_selection import GridSearchCV\n",
    "from sklearn.metrics import accuracy_score\n",
    "from sklearn.preprocessing import StandardScaler\n",
    "from sklearn.pipeline import Pipeline\n",
    "\n",
    "import matplotlib.pyplot as plt\n",
    "%matplotlib inline"
   ]
  },
  {
   "cell_type": "code",
   "execution_count": 2,
   "metadata": {},
   "outputs": [
    {
     "data": {
      "text/html": [
       "<div>\n",
       "<style>\n",
       "    .dataframe thead tr:only-child th {\n",
       "        text-align: right;\n",
       "    }\n",
       "\n",
       "    .dataframe thead th {\n",
       "        text-align: left;\n",
       "    }\n",
       "\n",
       "    .dataframe tbody tr th {\n",
       "        vertical-align: top;\n",
       "    }\n",
       "</style>\n",
       "<table border=\"1\" class=\"dataframe\">\n",
       "  <thead>\n",
       "    <tr style=\"text-align: right;\">\n",
       "      <th></th>\n",
       "      <th>age</th>\n",
       "      <th>job</th>\n",
       "      <th>marital</th>\n",
       "      <th>education</th>\n",
       "      <th>default</th>\n",
       "      <th>housing</th>\n",
       "      <th>loan</th>\n",
       "      <th>contact</th>\n",
       "      <th>month</th>\n",
       "      <th>day_of_week</th>\n",
       "      <th>...</th>\n",
       "      <th>campaign</th>\n",
       "      <th>pdays</th>\n",
       "      <th>previous</th>\n",
       "      <th>poutcome</th>\n",
       "      <th>emp.var.rate</th>\n",
       "      <th>cons.price.idx</th>\n",
       "      <th>cons.conf.idx</th>\n",
       "      <th>euribor3m</th>\n",
       "      <th>nr.employed</th>\n",
       "      <th>y</th>\n",
       "    </tr>\n",
       "  </thead>\n",
       "  <tbody>\n",
       "    <tr>\n",
       "      <th>0</th>\n",
       "      <td>56</td>\n",
       "      <td>housemaid</td>\n",
       "      <td>married</td>\n",
       "      <td>basic.4y</td>\n",
       "      <td>no</td>\n",
       "      <td>no</td>\n",
       "      <td>no</td>\n",
       "      <td>telephone</td>\n",
       "      <td>may</td>\n",
       "      <td>mon</td>\n",
       "      <td>...</td>\n",
       "      <td>1</td>\n",
       "      <td>999</td>\n",
       "      <td>0</td>\n",
       "      <td>nonexistent</td>\n",
       "      <td>1.1</td>\n",
       "      <td>93.994</td>\n",
       "      <td>-36.4</td>\n",
       "      <td>4.857</td>\n",
       "      <td>5191.0</td>\n",
       "      <td>no</td>\n",
       "    </tr>\n",
       "    <tr>\n",
       "      <th>1</th>\n",
       "      <td>57</td>\n",
       "      <td>services</td>\n",
       "      <td>married</td>\n",
       "      <td>high.school</td>\n",
       "      <td>unknown</td>\n",
       "      <td>no</td>\n",
       "      <td>no</td>\n",
       "      <td>telephone</td>\n",
       "      <td>may</td>\n",
       "      <td>mon</td>\n",
       "      <td>...</td>\n",
       "      <td>1</td>\n",
       "      <td>999</td>\n",
       "      <td>0</td>\n",
       "      <td>nonexistent</td>\n",
       "      <td>1.1</td>\n",
       "      <td>93.994</td>\n",
       "      <td>-36.4</td>\n",
       "      <td>4.857</td>\n",
       "      <td>5191.0</td>\n",
       "      <td>no</td>\n",
       "    </tr>\n",
       "    <tr>\n",
       "      <th>2</th>\n",
       "      <td>37</td>\n",
       "      <td>services</td>\n",
       "      <td>married</td>\n",
       "      <td>high.school</td>\n",
       "      <td>no</td>\n",
       "      <td>yes</td>\n",
       "      <td>no</td>\n",
       "      <td>telephone</td>\n",
       "      <td>may</td>\n",
       "      <td>mon</td>\n",
       "      <td>...</td>\n",
       "      <td>1</td>\n",
       "      <td>999</td>\n",
       "      <td>0</td>\n",
       "      <td>nonexistent</td>\n",
       "      <td>1.1</td>\n",
       "      <td>93.994</td>\n",
       "      <td>-36.4</td>\n",
       "      <td>4.857</td>\n",
       "      <td>5191.0</td>\n",
       "      <td>no</td>\n",
       "    </tr>\n",
       "    <tr>\n",
       "      <th>3</th>\n",
       "      <td>40</td>\n",
       "      <td>admin.</td>\n",
       "      <td>married</td>\n",
       "      <td>basic.6y</td>\n",
       "      <td>no</td>\n",
       "      <td>no</td>\n",
       "      <td>no</td>\n",
       "      <td>telephone</td>\n",
       "      <td>may</td>\n",
       "      <td>mon</td>\n",
       "      <td>...</td>\n",
       "      <td>1</td>\n",
       "      <td>999</td>\n",
       "      <td>0</td>\n",
       "      <td>nonexistent</td>\n",
       "      <td>1.1</td>\n",
       "      <td>93.994</td>\n",
       "      <td>-36.4</td>\n",
       "      <td>4.857</td>\n",
       "      <td>5191.0</td>\n",
       "      <td>no</td>\n",
       "    </tr>\n",
       "    <tr>\n",
       "      <th>4</th>\n",
       "      <td>56</td>\n",
       "      <td>services</td>\n",
       "      <td>married</td>\n",
       "      <td>high.school</td>\n",
       "      <td>no</td>\n",
       "      <td>no</td>\n",
       "      <td>yes</td>\n",
       "      <td>telephone</td>\n",
       "      <td>may</td>\n",
       "      <td>mon</td>\n",
       "      <td>...</td>\n",
       "      <td>1</td>\n",
       "      <td>999</td>\n",
       "      <td>0</td>\n",
       "      <td>nonexistent</td>\n",
       "      <td>1.1</td>\n",
       "      <td>93.994</td>\n",
       "      <td>-36.4</td>\n",
       "      <td>4.857</td>\n",
       "      <td>5191.0</td>\n",
       "      <td>no</td>\n",
       "    </tr>\n",
       "  </tbody>\n",
       "</table>\n",
       "<p>5 rows × 21 columns</p>\n",
       "</div>"
      ],
      "text/plain": [
       "   age        job  marital    education  default housing loan    contact  \\\n",
       "0   56  housemaid  married     basic.4y       no      no   no  telephone   \n",
       "1   57   services  married  high.school  unknown      no   no  telephone   \n",
       "2   37   services  married  high.school       no     yes   no  telephone   \n",
       "3   40     admin.  married     basic.6y       no      no   no  telephone   \n",
       "4   56   services  married  high.school       no      no  yes  telephone   \n",
       "\n",
       "  month day_of_week ...  campaign  pdays  previous     poutcome emp.var.rate  \\\n",
       "0   may         mon ...         1    999         0  nonexistent          1.1   \n",
       "1   may         mon ...         1    999         0  nonexistent          1.1   \n",
       "2   may         mon ...         1    999         0  nonexistent          1.1   \n",
       "3   may         mon ...         1    999         0  nonexistent          1.1   \n",
       "4   may         mon ...         1    999         0  nonexistent          1.1   \n",
       "\n",
       "   cons.price.idx  cons.conf.idx  euribor3m  nr.employed   y  \n",
       "0          93.994          -36.4      4.857       5191.0  no  \n",
       "1          93.994          -36.4      4.857       5191.0  no  \n",
       "2          93.994          -36.4      4.857       5191.0  no  \n",
       "3          93.994          -36.4      4.857       5191.0  no  \n",
       "4          93.994          -36.4      4.857       5191.0  no  \n",
       "\n",
       "[5 rows x 21 columns]"
      ]
     },
     "execution_count": 2,
     "metadata": {},
     "output_type": "execute_result"
    }
   ],
   "source": [
    "#load data\n",
    "bank_info = pd.read_csv('bank-additional-full.csv', delimiter=\";\")\n",
    "bank_info.head()"
   ]
  },
  {
   "cell_type": "code",
   "execution_count": 3,
   "metadata": {
    "collapsed": true
   },
   "outputs": [],
   "source": [
    "# Leaving age, duration, call_time, previous contact, euribor3m, employment variation rate, \n",
    "# consumer price index, consumer confidence index and number of employees as numerical columns\n",
    "age = bank_info.age\n",
    "duration = bank_info.duration\n",
    "call_time = bank_info.campaign\n",
    "prev_contact = bank_info.previous\n",
    "euribor3m = bank_info.euribor3m\n",
    "emp_var_rate = bank_info['emp.var.rate']\n",
    "cons_price_idx = bank_info['cons.price.idx']\n",
    "cons_conf_idx = bank_info['cons.conf.idx']\n",
    "number_employed = bank_info['nr.employed']"
   ]
  },
  {
   "cell_type": "code",
   "execution_count": 4,
   "metadata": {
    "collapsed": true
   },
   "outputs": [],
   "source": [
    "# Rearrange the job column\n",
    "j = bank_info.job\n",
    "job = pd.get_dummies(j, prefix='job')\n",
    "job.drop([job.columns[0]], axis=1, inplace=True)"
   ]
  },
  {
   "cell_type": "code",
   "execution_count": 5,
   "metadata": {
    "collapsed": true
   },
   "outputs": [],
   "source": [
    "# Force to stop showing warning for assigning grouped data the same categorical names\n",
    "pd.options.mode.chained_assignment = None"
   ]
  },
  {
   "cell_type": "code",
   "execution_count": 6,
   "metadata": {
    "collapsed": true
   },
   "outputs": [],
   "source": [
    "# Rearrange the marital column, regroup by married and unknown\n",
    "m = bank_info.marital\n",
    "#m[(m == 'divorced')|(m == 'married')].loc[:]= 'married_current_or_before'\n",
    "m[(m == 'divorced')|(m == 'married')] = 'married_current_or_before'\n",
    "m[(m == 'single') | (m == 'unknown')] = 'not_married'\n",
    "marital = pd.get_dummies(m)\n",
    "marital.drop([marital.columns[0]], axis=1, inplace=True)"
   ]
  },
  {
   "cell_type": "code",
   "execution_count": 7,
   "metadata": {
    "collapsed": true
   },
   "outputs": [],
   "source": [
    "# Rearrange the education level column, regroup by high school below and above\n",
    "e = bank_info.education\n",
    "e[(e == 'illiterate')|(e == 'basic.4y')|(e == 'basic.6y')|(e == 'basic.9y')]= 'high_school_below'\n",
    "e[(e == 'university.degree')|(e == 'professional.course')|(e == 'unknown')] = 'high_school_above'\n",
    "education = pd.get_dummies(e)\n",
    "education.drop([education.columns[0]], axis=1, inplace=True)"
   ]
  },
  {
   "cell_type": "code",
   "execution_count": 8,
   "metadata": {
    "collapsed": true
   },
   "outputs": [],
   "source": [
    "# Rearrange the contact communication type column\n",
    "contact = pd.get_dummies(bank_info.contact)\n",
    "contact.drop([contact.columns[0]], axis=1, inplace=True)"
   ]
  },
  {
   "cell_type": "code",
   "execution_count": 9,
   "metadata": {
    "collapsed": true
   },
   "outputs": [],
   "source": [
    "# Rearrange the column for last contact month of year\n",
    "month = pd.get_dummies(bank_info.month)\n",
    "month.drop([month.columns[0]], axis=1, inplace=True)"
   ]
  },
  {
   "cell_type": "code",
   "execution_count": 10,
   "metadata": {
    "collapsed": true
   },
   "outputs": [],
   "source": [
    "# Rearrange the column for last contact day of the week\n",
    "day_of_week = pd.get_dummies(bank_info.day_of_week)\n",
    "day_of_week.drop([day_of_week.columns[0]], axis=1, inplace=True)"
   ]
  },
  {
   "cell_type": "code",
   "execution_count": 11,
   "metadata": {
    "collapsed": true
   },
   "outputs": [],
   "source": [
    "# Rearrange the column for number of days that passed by after the client was last contacted from a previous campaign\n",
    "p = bank_info.pdays\n",
    "p[p != 999] = '0-27'\n",
    "last_contact = pd.get_dummies(p)\n",
    "last_contact.drop([last_contact.columns[0]], axis=1, inplace=True)"
   ]
  },
  {
   "cell_type": "code",
   "execution_count": 12,
   "metadata": {
    "collapsed": true
   },
   "outputs": [],
   "source": [
    "# Rearrange the previous outcome column\n",
    "prev_outcome = pd.get_dummies(bank_info.poutcome, prefix='prev_outcome')\n",
    "prev_outcome.drop([prev_outcome.columns[0]], axis=1, inplace=True)"
   ]
  },
  {
   "cell_type": "code",
   "execution_count": 13,
   "metadata": {
    "collapsed": true
   },
   "outputs": [],
   "source": [
    "# Rearrange the two loans columns\n",
    "hou_loan = pd.get_dummies(bank_info.housing, prefix='hou_loan')\n",
    "hou_loan.drop([hou_loan.columns[0]], axis=1, inplace=True)\n",
    "per_loan = pd.get_dummies(bank_info.loan, prefix='per_loan')\n",
    "per_loan.drop([per_loan.columns[0]], axis=1, inplace=True)"
   ]
  },
  {
   "cell_type": "code",
   "execution_count": 14,
   "metadata": {
    "collapsed": true
   },
   "outputs": [],
   "source": [
    "# Rearrange the default column\n",
    "defa = bank_info.default\n",
    "defa[defa == 'yes'] = 'unknown'\n",
    "default = pd.get_dummies(defa, prefix='default')\n",
    "default.drop([default.columns[0]], axis=1, inplace=True)"
   ]
  },
  {
   "cell_type": "code",
   "execution_count": 15,
   "metadata": {
    "collapsed": true
   },
   "outputs": [],
   "source": [
    "# Save the output column\n",
    "output = pd.get_dummies(bank_info.y).yes\n",
    "output = output.rename(\"y\")"
   ]
  },
  {
   "cell_type": "code",
   "execution_count": 16,
   "metadata": {},
   "outputs": [
    {
     "data": {
      "text/plain": [
       "(41188, 46)"
      ]
     },
     "execution_count": 16,
     "metadata": {},
     "output_type": "execute_result"
    }
   ],
   "source": [
    "# The entire rearranged data set\n",
    "data_df = pd.concat([age, job, marital, education, default, hou_loan, per_loan, contact, month, \n",
    "                  duration, call_time, day_of_week, last_contact, prev_contact, prev_outcome, \n",
    "                  emp_var_rate, number_employed, cons_price_idx, cons_conf_idx, euribor3m, output], axis=1)\n",
    "pd.set_option('display.max_columns', None)\n",
    "data_df.head()\n",
    "data_df.shape"
   ]
  },
  {
   "cell_type": "code",
   "execution_count": 17,
   "metadata": {
    "collapsed": true
   },
   "outputs": [],
   "source": [
    "# Save the entire rearranged data set for future training\n",
    "pd.DataFrame.to_csv(data_df, path_or_buf='../capstone_project_1/rearranged_whole_data_set.csv'\n",
    "                    , index=False)"
   ]
  },
  {
   "cell_type": "code",
   "execution_count": 17,
   "metadata": {},
   "outputs": [
    {
     "name": "stdout",
     "output_type": "stream",
     "text": [
      "(28831, 45)\n",
      "(8238, 45)\n",
      "(4119, 45)\n",
      "(28831,)\n",
      "(8238,)\n",
      "(4119,)\n"
     ]
    }
   ],
   "source": [
    "# Splitting the data to 70% training, 20% validating and 10% testing\n",
    "np.random.seed(101)\n",
    "data = np.random.permutation(data_df)\n",
    "train, validate, test = np.split(data, [int(.7*len(data)), int(.9*len(data))])\n",
    "\n",
    "X_train = train[:, :-1]\n",
    "Y_train = train[:, -1]\n",
    "X_test = validate[:, :-1]\n",
    "Y_test = validate[:, -1]\n",
    "X_final = test[:, :-1]\n",
    "Y_final = test[:, -1]\n",
    "\n",
    "print(X_train.shape)\n",
    "print(X_test.shape)\n",
    "print(X_final.shape)\n",
    "print(Y_train.shape)\n",
    "print(Y_test.shape)\n",
    "print(Y_final.shape)"
   ]
  },
  {
   "cell_type": "code",
   "execution_count": 18,
   "metadata": {},
   "outputs": [
    {
     "name": "stdout",
     "output_type": "stream",
     "text": [
      "0.111234435157 0.116290361738\n"
     ]
    }
   ],
   "source": [
    "print(sum(Y_train)/len(Y_train), sum(Y_test)/len(Y_test))"
   ]
  },
  {
   "cell_type": "markdown",
   "metadata": {},
   "source": [
    "#### The above cell is to make sure the train and test datasets have about the same class ratio. It is also shown from the above cell that the data is imbalanced, with only ~11% output being \"1\". "
   ]
  },
  {
   "cell_type": "code",
   "execution_count": 19,
   "metadata": {},
   "outputs": [
    {
     "data": {
      "text/plain": [
       "array([[-0.7709298 , -0.53710216, -0.19402632, ...,  0.72247186,\n",
       "         0.88520024,  0.70991597],\n",
       "       [ 1.62982596, -0.53710216, -0.19402632, ..., -0.22856308,\n",
       "         0.95009242,  0.77112035],\n",
       "       [-0.67489957, -0.53710216, -0.19402632, ...,  0.72247186,\n",
       "         0.88520024,  0.70818377],\n",
       "       ..., \n",
       "       [-1.92329256, -0.53710216, -0.19402632, ...,  0.59105613,\n",
       "        -0.47753557,  0.76881075],\n",
       "       [ 0.76555389, -0.53710216, -0.19402632, ..., -0.22856308,\n",
       "         0.95009242,  0.77054295],\n",
       "       [-0.96299026,  1.8618432 , -0.19402632, ...,  0.59105613,\n",
       "        -0.47753557,  0.76996555]])"
      ]
     },
     "execution_count": 19,
     "metadata": {},
     "output_type": "execute_result"
    }
   ],
   "source": [
    "# Standardize variables\n",
    "scaler = StandardScaler()\n",
    "scaler.fit(X_train) # use train data to fit\n",
    "X_test = scaler.transform(X_test)\n",
    "X_final = scaler.transform(X_final)\n",
    "X_train = scaler.transform(X_train)\n",
    "X_train"
   ]
  },
  {
   "cell_type": "code",
   "execution_count": 22,
   "metadata": {},
   "outputs": [
    {
     "data": {
      "text/plain": [
       "LogisticRegression(C=1.0, class_weight=None, dual=False, fit_intercept=True,\n",
       "          intercept_scaling=1, max_iter=100, multi_class='ovr', n_jobs=1,\n",
       "          penalty='l2', random_state=None, solver='liblinear', tol=0.0001,\n",
       "          verbose=0, warm_start=False)"
      ]
     },
     "execution_count": 22,
     "metadata": {},
     "output_type": "execute_result"
    }
   ],
   "source": [
    "# Train the data using logistic regression, class weight not balanced\n",
    "model1 = LogisticRegression()\n",
    "model1.fit(X_train, Y_train)"
   ]
  },
  {
   "cell_type": "code",
   "execution_count": 23,
   "metadata": {},
   "outputs": [
    {
     "data": {
      "text/plain": [
       "(LogisticRegression(C=10, class_weight=None, dual=False, fit_intercept=True,\n",
       "           intercept_scaling=1, max_iter=100, multi_class='ovr', n_jobs=1,\n",
       "           penalty='l2', random_state=None, solver='liblinear', tol=1e-05,\n",
       "           verbose=0, warm_start=False),\n",
       " {'C': 10, 'tol': 1e-05},\n",
       " ({'C': 0.1, 'tol': 1e-05},\n",
       "  {'C': 0.1, 'tol': 0.0001},\n",
       "  {'C': 0.1, 'tol': 0.001},\n",
       "  {'C': 1, 'tol': 1e-05},\n",
       "  {'C': 1, 'tol': 0.0001},\n",
       "  {'C': 1, 'tol': 0.001},\n",
       "  {'C': 10, 'tol': 1e-05},\n",
       "  {'C': 10, 'tol': 0.0001},\n",
       "  {'C': 10, 'tol': 0.001},\n",
       "  {'C': 20, 'tol': 1e-05},\n",
       "  {'C': 20, 'tol': 0.0001},\n",
       "  {'C': 20, 'tol': 0.001}),\n",
       " array([ 0.91200444,  0.91200444,  0.91200444,  0.9118657 ,  0.9118657 ,\n",
       "         0.91183102,  0.91221255,  0.91221255,  0.91217786,  0.91221255,\n",
       "         0.91221255,  0.91221255]))"
      ]
     },
     "execution_count": 23,
     "metadata": {},
     "output_type": "execute_result"
    }
   ],
   "source": [
    "# Try gridsearch for tuning parameters\n",
    "parameters = {'C':[0.1, 1, 10, 20], 'tol':[1e-05, 1e-04, 0.001]}\n",
    "clf = GridSearchCV(model1, parameters, cv=5, scoring='accuracy')\n",
    "clf.fit(X_train, Y_train)\n",
    "clf.best_estimator_, clf.best_params_, clf.cv_results_['params'], clf.cv_results_['mean_test_score']"
   ]
  },
  {
   "cell_type": "markdown",
   "metadata": {},
   "source": [
    "#### From the results, if the model is trained without class weight balanced, the best C value is 10, which differs from the default value, and the best tol value I would decide to be 1e-04, the same as the default, since the scores really do not vary as tol value changes."
   ]
  },
  {
   "cell_type": "code",
   "execution_count": 20,
   "metadata": {},
   "outputs": [
    {
     "data": {
      "text/plain": [
       "LogisticRegression(C=10, class_weight=None, dual=False, fit_intercept=True,\n",
       "          intercept_scaling=1, max_iter=100, multi_class='ovr', n_jobs=1,\n",
       "          penalty='l2', random_state=None, solver='liblinear', tol=0.0001,\n",
       "          verbose=0, warm_start=False)"
      ]
     },
     "execution_count": 20,
     "metadata": {},
     "output_type": "execute_result"
    }
   ],
   "source": [
    "# Train the logistic regression model with class weight not balanced and parameters tuned through gridsearch\n",
    "model1 = LogisticRegression(C=10)\n",
    "model1.fit(X_train, Y_train)"
   ]
  },
  {
   "cell_type": "code",
   "execution_count": 25,
   "metadata": {},
   "outputs": [
    {
     "data": {
      "text/plain": [
       "LogisticRegression(C=1.0, class_weight='balanced', dual=False,\n",
       "          fit_intercept=True, intercept_scaling=1, max_iter=100,\n",
       "          multi_class='ovr', n_jobs=1, penalty='l2', random_state=None,\n",
       "          solver='liblinear', tol=0.0001, verbose=0, warm_start=False)"
      ]
     },
     "execution_count": 25,
     "metadata": {},
     "output_type": "execute_result"
    }
   ],
   "source": [
    "# Train the data using logistic regression, class weighted\n",
    "model2 = LogisticRegression(class_weight='balanced')\n",
    "model2.fit(X_train, Y_train)"
   ]
  },
  {
   "cell_type": "code",
   "execution_count": 27,
   "metadata": {},
   "outputs": [
    {
     "data": {
      "text/plain": [
       "(LogisticRegression(C=0.1, class_weight='balanced', dual=False,\n",
       "           fit_intercept=True, intercept_scaling=1, max_iter=100,\n",
       "           multi_class='ovr', n_jobs=1, penalty='l2', random_state=None,\n",
       "           solver='liblinear', tol=0.001, verbose=0, warm_start=False),\n",
       " {'C': 0.1, 'tol': 0.001},\n",
       " ({'C': 0.01, 'tol': 0.0001},\n",
       "  {'C': 0.01, 'tol': 0.001},\n",
       "  {'C': 0.01, 'tol': 0.01},\n",
       "  {'C': 0.1, 'tol': 0.0001},\n",
       "  {'C': 0.1, 'tol': 0.001},\n",
       "  {'C': 0.1, 'tol': 0.01},\n",
       "  {'C': 1, 'tol': 0.0001},\n",
       "  {'C': 1, 'tol': 0.001},\n",
       "  {'C': 1, 'tol': 0.01}),\n",
       " array([ 0.85855503,  0.85855503,  0.85876314,  0.86191946,  0.86209289,\n",
       "         0.8620582 ,  0.86126045,  0.86126045,  0.86126045]))"
      ]
     },
     "execution_count": 27,
     "metadata": {},
     "output_type": "execute_result"
    }
   ],
   "source": [
    "# Try gridsearch for tuning parameters\n",
    "parameters = {'C':[0.01, 0.1, 1], 'tol':[1e-4, 0.001, 0.01]}\n",
    "clf = GridSearchCV(model2, parameters, cv=5, scoring='accuracy')\n",
    "clf.fit(X_train, Y_train)\n",
    "clf.best_estimator_, clf.best_params_, clf.cv_results_['params'], clf.cv_results_['mean_test_score']"
   ]
  },
  {
   "cell_type": "markdown",
   "metadata": {},
   "source": [
    "#### From the results, if the model is trained with class weight balanced, the best C value is 0.1 and the best tol value is 0.001, which both differ from their default values. "
   ]
  },
  {
   "cell_type": "code",
   "execution_count": 28,
   "metadata": {},
   "outputs": [
    {
     "data": {
      "text/plain": [
       "LogisticRegression(C=0.1, class_weight='balanced', dual=False,\n",
       "          fit_intercept=True, intercept_scaling=1, max_iter=100,\n",
       "          multi_class='ovr', n_jobs=1, penalty='l2', random_state=None,\n",
       "          solver='liblinear', tol=0.001, verbose=0, warm_start=False)"
      ]
     },
     "execution_count": 28,
     "metadata": {},
     "output_type": "execute_result"
    }
   ],
   "source": [
    "# Train the logistic regression model with class weight balanced and parameters tuned through gridsearch\n",
    "model2 = LogisticRegression(class_weight='balanced', C=0.1, tol=0.001)\n",
    "model2.fit(X_train, Y_train)"
   ]
  },
  {
   "cell_type": "code",
   "execution_count": 21,
   "metadata": {},
   "outputs": [
    {
     "data": {
      "text/html": [
       "<div>\n",
       "<style>\n",
       "    .dataframe thead tr:only-child th {\n",
       "        text-align: right;\n",
       "    }\n",
       "\n",
       "    .dataframe thead th {\n",
       "        text-align: left;\n",
       "    }\n",
       "\n",
       "    .dataframe tbody tr th {\n",
       "        vertical-align: top;\n",
       "    }\n",
       "</style>\n",
       "<table border=\"1\" class=\"dataframe\">\n",
       "  <thead>\n",
       "    <tr style=\"text-align: right;\">\n",
       "      <th></th>\n",
       "      <th>features</th>\n",
       "      <th>coefficients</th>\n",
       "    </tr>\n",
       "  </thead>\n",
       "  <tbody>\n",
       "    <tr>\n",
       "      <th>40</th>\n",
       "      <td>emp.var.rate</td>\n",
       "      <td>0.075691</td>\n",
       "    </tr>\n",
       "    <tr>\n",
       "      <th>20</th>\n",
       "      <td>telephone</td>\n",
       "      <td>0.770068</td>\n",
       "    </tr>\n",
       "    <tr>\n",
       "      <th>26</th>\n",
       "      <td>may</td>\n",
       "      <td>0.787324</td>\n",
       "    </tr>\n",
       "    <tr>\n",
       "      <th>24</th>\n",
       "      <td>jun</td>\n",
       "      <td>0.813355</td>\n",
       "    </tr>\n",
       "    <tr>\n",
       "      <th>31</th>\n",
       "      <td>campaign</td>\n",
       "      <td>0.880749</td>\n",
       "    </tr>\n",
       "    <tr>\n",
       "      <th>1</th>\n",
       "      <td>job_blue-collar</td>\n",
       "      <td>0.887037</td>\n",
       "    </tr>\n",
       "    <tr>\n",
       "      <th>15</th>\n",
       "      <td>default_unknown</td>\n",
       "      <td>0.892757</td>\n",
       "    </tr>\n",
       "    <tr>\n",
       "      <th>27</th>\n",
       "      <td>nov</td>\n",
       "      <td>0.901712</td>\n",
       "    </tr>\n",
       "    <tr>\n",
       "      <th>32</th>\n",
       "      <td>mon</td>\n",
       "      <td>0.947674</td>\n",
       "    </tr>\n",
       "    <tr>\n",
       "      <th>4</th>\n",
       "      <td>job_management</td>\n",
       "      <td>0.957210</td>\n",
       "    </tr>\n",
       "    <tr>\n",
       "      <th>7</th>\n",
       "      <td>job_services</td>\n",
       "      <td>0.959661</td>\n",
       "    </tr>\n",
       "    <tr>\n",
       "      <th>37</th>\n",
       "      <td>previous</td>\n",
       "      <td>0.961034</td>\n",
       "    </tr>\n",
       "    <tr>\n",
       "      <th>14</th>\n",
       "      <td>high_school_below</td>\n",
       "      <td>0.961526</td>\n",
       "    </tr>\n",
       "    <tr>\n",
       "      <th>9</th>\n",
       "      <td>job_technician</td>\n",
       "      <td>0.965859</td>\n",
       "    </tr>\n",
       "    <tr>\n",
       "      <th>6</th>\n",
       "      <td>job_self-employed</td>\n",
       "      <td>0.967381</td>\n",
       "    </tr>\n",
       "    <tr>\n",
       "      <th>2</th>\n",
       "      <td>job_entrepreneur</td>\n",
       "      <td>0.968567</td>\n",
       "    </tr>\n",
       "    <tr>\n",
       "      <th>19</th>\n",
       "      <td>per_loan_yes</td>\n",
       "      <td>0.975686</td>\n",
       "    </tr>\n",
       "    <tr>\n",
       "      <th>17</th>\n",
       "      <td>hou_loan_yes</td>\n",
       "      <td>0.985487</td>\n",
       "    </tr>\n",
       "    <tr>\n",
       "      <th>0</th>\n",
       "      <td>age</td>\n",
       "      <td>0.994024</td>\n",
       "    </tr>\n",
       "    <tr>\n",
       "      <th>16</th>\n",
       "      <td>hou_loan_unknown</td>\n",
       "      <td>0.996648</td>\n",
       "    </tr>\n",
       "    <tr>\n",
       "      <th>18</th>\n",
       "      <td>per_loan_unknown</td>\n",
       "      <td>0.996648</td>\n",
       "    </tr>\n",
       "    <tr>\n",
       "      <th>10</th>\n",
       "      <td>job_unemployed</td>\n",
       "      <td>1.000085</td>\n",
       "    </tr>\n",
       "    <tr>\n",
       "      <th>11</th>\n",
       "      <td>job_unknown</td>\n",
       "      <td>1.004775</td>\n",
       "    </tr>\n",
       "    <tr>\n",
       "      <th>3</th>\n",
       "      <td>job_housemaid</td>\n",
       "      <td>1.012513</td>\n",
       "    </tr>\n",
       "    <tr>\n",
       "      <th>12</th>\n",
       "      <td>not_married</td>\n",
       "      <td>1.013557</td>\n",
       "    </tr>\n",
       "    <tr>\n",
       "      <th>23</th>\n",
       "      <td>jul</td>\n",
       "      <td>1.017556</td>\n",
       "    </tr>\n",
       "    <tr>\n",
       "      <th>22</th>\n",
       "      <td>dec</td>\n",
       "      <td>1.023442</td>\n",
       "    </tr>\n",
       "    <tr>\n",
       "      <th>8</th>\n",
       "      <td>job_student</td>\n",
       "      <td>1.025478</td>\n",
       "    </tr>\n",
       "    <tr>\n",
       "      <th>28</th>\n",
       "      <td>oct</td>\n",
       "      <td>1.026949</td>\n",
       "    </tr>\n",
       "    <tr>\n",
       "      <th>33</th>\n",
       "      <td>thu</td>\n",
       "      <td>1.035814</td>\n",
       "    </tr>\n",
       "    <tr>\n",
       "      <th>34</th>\n",
       "      <td>tue</td>\n",
       "      <td>1.036452</td>\n",
       "    </tr>\n",
       "    <tr>\n",
       "      <th>29</th>\n",
       "      <td>sep</td>\n",
       "      <td>1.037787</td>\n",
       "    </tr>\n",
       "    <tr>\n",
       "      <th>5</th>\n",
       "      <td>job_retired</td>\n",
       "      <td>1.040591</td>\n",
       "    </tr>\n",
       "    <tr>\n",
       "      <th>35</th>\n",
       "      <td>wed</td>\n",
       "      <td>1.064312</td>\n",
       "    </tr>\n",
       "    <tr>\n",
       "      <th>13</th>\n",
       "      <td>high_school_above</td>\n",
       "      <td>1.080487</td>\n",
       "    </tr>\n",
       "    <tr>\n",
       "      <th>43</th>\n",
       "      <td>cons.conf.idx</td>\n",
       "      <td>1.103947</td>\n",
       "    </tr>\n",
       "    <tr>\n",
       "      <th>38</th>\n",
       "      <td>prev_outcome_nonexistent</td>\n",
       "      <td>1.157282</td>\n",
       "    </tr>\n",
       "    <tr>\n",
       "      <th>39</th>\n",
       "      <td>prev_outcome_success</td>\n",
       "      <td>1.163542</td>\n",
       "    </tr>\n",
       "    <tr>\n",
       "      <th>36</th>\n",
       "      <td>0-27</td>\n",
       "      <td>1.225605</td>\n",
       "    </tr>\n",
       "    <tr>\n",
       "      <th>25</th>\n",
       "      <td>mar</td>\n",
       "      <td>1.252208</td>\n",
       "    </tr>\n",
       "    <tr>\n",
       "      <th>21</th>\n",
       "      <td>aug</td>\n",
       "      <td>1.308398</td>\n",
       "    </tr>\n",
       "    <tr>\n",
       "      <th>41</th>\n",
       "      <td>nr.employed</td>\n",
       "      <td>1.349697</td>\n",
       "    </tr>\n",
       "    <tr>\n",
       "      <th>44</th>\n",
       "      <td>euribor3m</td>\n",
       "      <td>1.754784</td>\n",
       "    </tr>\n",
       "    <tr>\n",
       "      <th>42</th>\n",
       "      <td>cons.price.idx</td>\n",
       "      <td>3.160863</td>\n",
       "    </tr>\n",
       "    <tr>\n",
       "      <th>30</th>\n",
       "      <td>duration</td>\n",
       "      <td>3.402082</td>\n",
       "    </tr>\n",
       "  </tbody>\n",
       "</table>\n",
       "</div>"
      ],
      "text/plain": [
       "                    features  coefficients\n",
       "40              emp.var.rate      0.075691\n",
       "20                 telephone      0.770068\n",
       "26                       may      0.787324\n",
       "24                       jun      0.813355\n",
       "31                  campaign      0.880749\n",
       "1            job_blue-collar      0.887037\n",
       "15           default_unknown      0.892757\n",
       "27                       nov      0.901712\n",
       "32                       mon      0.947674\n",
       "4             job_management      0.957210\n",
       "7               job_services      0.959661\n",
       "37                  previous      0.961034\n",
       "14         high_school_below      0.961526\n",
       "9             job_technician      0.965859\n",
       "6          job_self-employed      0.967381\n",
       "2           job_entrepreneur      0.968567\n",
       "19              per_loan_yes      0.975686\n",
       "17              hou_loan_yes      0.985487\n",
       "0                        age      0.994024\n",
       "16          hou_loan_unknown      0.996648\n",
       "18          per_loan_unknown      0.996648\n",
       "10            job_unemployed      1.000085\n",
       "11               job_unknown      1.004775\n",
       "3              job_housemaid      1.012513\n",
       "12               not_married      1.013557\n",
       "23                       jul      1.017556\n",
       "22                       dec      1.023442\n",
       "8                job_student      1.025478\n",
       "28                       oct      1.026949\n",
       "33                       thu      1.035814\n",
       "34                       tue      1.036452\n",
       "29                       sep      1.037787\n",
       "5                job_retired      1.040591\n",
       "35                       wed      1.064312\n",
       "13         high_school_above      1.080487\n",
       "43             cons.conf.idx      1.103947\n",
       "38  prev_outcome_nonexistent      1.157282\n",
       "39      prev_outcome_success      1.163542\n",
       "36                      0-27      1.225605\n",
       "25                       mar      1.252208\n",
       "21                       aug      1.308398\n",
       "41               nr.employed      1.349697\n",
       "44                 euribor3m      1.754784\n",
       "42            cons.price.idx      3.160863\n",
       "30                  duration      3.402082"
      ]
     },
     "execution_count": 21,
     "metadata": {},
     "output_type": "execute_result"
    }
   ],
   "source": [
    "# Present features sorted by their corresponding coefficients\n",
    "a = data_df.drop([data_df.columns[-1]], axis=1)\n",
    "features = pd.DataFrame(a.columns, columns=['features'])\n",
    "coefficients = pd.DataFrame(np.exp(model1.coef_)).unstack().unstack()\n",
    "results = pd.concat([features, coefficients], axis=1)\n",
    "results.columns = ['features', 'coefficients']\n",
    "results.sort_values(by='coefficients')"
   ]
  },
  {
   "cell_type": "markdown",
   "metadata": {},
   "source": [
    "## Compare weighted and unweighted models:"
   ]
  },
  {
   "cell_type": "code",
   "execution_count": 31,
   "metadata": {},
   "outputs": [
    {
     "name": "stdout",
     "output_type": "stream",
     "text": [
      "             precision    recall  f1-score   support\n",
      "\n",
      "         no       0.93      0.97      0.95      7280\n",
      "        yes       0.66      0.41      0.50       958\n",
      "\n",
      "avg / total       0.89      0.91      0.90      8238\n",
      "\n"
     ]
    }
   ],
   "source": [
    "# Classification report for including all features, class weight not balanced\n",
    "print(classification_report(y_true=Y_test, y_pred=model1.predict(X_test), target_names=['no', 'yes']))"
   ]
  },
  {
   "cell_type": "code",
   "execution_count": 32,
   "metadata": {},
   "outputs": [
    {
     "name": "stdout",
     "output_type": "stream",
     "text": [
      "             precision    recall  f1-score   support\n",
      "\n",
      "         no       0.98      0.86      0.92      7280\n",
      "        yes       0.45      0.87      0.59       958\n",
      "\n",
      "avg / total       0.92      0.86      0.88      8238\n",
      "\n"
     ]
    }
   ],
   "source": [
    "# Classification report for including all features, class weight balanced\n",
    "print(classification_report(y_true=Y_test, y_pred=model2.predict(X_test), target_names=['no', 'yes']))"
   ]
  },
  {
   "cell_type": "markdown",
   "metadata": {},
   "source": [
    "#### Firstly, since the data set is imbalanced with much less 1s, when looking through the classification report, 1s (\"yes\") need more attention. \n",
    "#### Secondly, for this typical problem, precision and recall are both important, with precision means how many percentage of people that are predicted to subscribe a term deposit by the model really subscribed and recall means how many percentage of people that actually subscribed are predicted to subscribe a term deposit by the model. Hence, f1 score is used to determine which model would be better since it represents the harmonic mean of precision and recall. \n",
    "#### From the two classification reports above, the model with class weight balanced has a higher f1 score for output \"yes\".  "
   ]
  },
  {
   "cell_type": "markdown",
   "metadata": {},
   "source": [
    "## Exclude some columns of features that have relatively low coefficients shown in the features and coefficients table above, train and compare:"
   ]
  },
  {
   "cell_type": "code",
   "execution_count": 23,
   "metadata": {},
   "outputs": [
    {
     "data": {
      "text/plain": [
       "(41188, 41)"
      ]
     },
     "execution_count": 23,
     "metadata": {},
     "output_type": "execute_result"
    }
   ],
   "source": [
    "# Rearranged dataset to exclude top five unimportant features: contact type, employment variation rate, call time/\n",
    "# campaign and May and June in month\n",
    "month.drop(['may', 'jun'], axis=1, inplace=True)\n",
    "data_df2 = pd.concat([age, job, marital, education, default, hou_loan, per_loan, month, duration, day_of_week, \n",
    "                      last_contact, prev_contact, prev_outcome, number_employed, cons_price_idx, cons_conf_idx, \n",
    "                     euribor3m, output], axis=1)\n",
    "pd.set_option('display.max_columns', None)\n",
    "data_df2.head()\n",
    "data_df2.shape"
   ]
  },
  {
   "cell_type": "code",
   "execution_count": 24,
   "metadata": {
    "collapsed": true
   },
   "outputs": [],
   "source": [
    "# Save the optimal data set for future training\n",
    "pd.DataFrame.to_csv(data_df2, path_or_buf='../capstone_project_1/rearranged_optimal_data_set.csv'\n",
    "                   , index=False)"
   ]
  },
  {
   "cell_type": "code",
   "execution_count": 25,
   "metadata": {},
   "outputs": [
    {
     "name": "stdout",
     "output_type": "stream",
     "text": [
      "(28831, 40)\n",
      "(8238, 40)\n",
      "(4119, 40)\n",
      "(28831,)\n",
      "(8238,)\n",
      "(4119,)\n"
     ]
    }
   ],
   "source": [
    "# Splitting the data to 70% training, 20% validating and 10% testing\n",
    "np.random.seed(101)\n",
    "data = np.random.permutation(data_df2)\n",
    "train, validate, test = np.split(data, [int(.7*len(data)), int(.9*len(data))])\n",
    "\n",
    "X_train = train[:, :-1]\n",
    "Y_train = train[:, -1]\n",
    "X_test = validate[:, :-1]\n",
    "Y_test = validate[:, -1]\n",
    "X_final = test[:, :-1]\n",
    "Y_final = test[:, -1]\n",
    "\n",
    "print(X_train.shape)\n",
    "print(X_test.shape)\n",
    "print(X_final.shape)\n",
    "print(Y_train.shape)\n",
    "print(Y_test.shape)\n",
    "print(Y_final.shape)"
   ]
  },
  {
   "cell_type": "code",
   "execution_count": 26,
   "metadata": {},
   "outputs": [
    {
     "data": {
      "text/plain": [
       "array([[-0.7709298 , -0.53710216, -0.19402632, ...,  0.72247186,\n",
       "         0.88520024,  0.70991597],\n",
       "       [ 1.62982596, -0.53710216, -0.19402632, ..., -0.22856308,\n",
       "         0.95009242,  0.77112035],\n",
       "       [-0.67489957, -0.53710216, -0.19402632, ...,  0.72247186,\n",
       "         0.88520024,  0.70818377],\n",
       "       ..., \n",
       "       [-1.92329256, -0.53710216, -0.19402632, ...,  0.59105613,\n",
       "        -0.47753557,  0.76881075],\n",
       "       [ 0.76555389, -0.53710216, -0.19402632, ..., -0.22856308,\n",
       "         0.95009242,  0.77054295],\n",
       "       [-0.96299026,  1.8618432 , -0.19402632, ...,  0.59105613,\n",
       "        -0.47753557,  0.76996555]])"
      ]
     },
     "execution_count": 26,
     "metadata": {},
     "output_type": "execute_result"
    }
   ],
   "source": [
    "# Standardize variables\n",
    "scaler = StandardScaler()\n",
    "scaler.fit(X_train) # use train data to fit\n",
    "X_test = scaler.transform(X_test)\n",
    "X_final = scaler.transform(X_final)\n",
    "X_train = scaler.transform(X_train)\n",
    "X_train"
   ]
  },
  {
   "cell_type": "code",
   "execution_count": 27,
   "metadata": {},
   "outputs": [
    {
     "data": {
      "text/plain": [
       "LogisticRegression(C=1.0, class_weight='balanced', dual=False,\n",
       "          fit_intercept=True, intercept_scaling=1, max_iter=100,\n",
       "          multi_class='ovr', n_jobs=1, penalty='l2', random_state=None,\n",
       "          solver='liblinear', tol=0.0001, verbose=0, warm_start=False)"
      ]
     },
     "execution_count": 27,
     "metadata": {},
     "output_type": "execute_result"
    }
   ],
   "source": [
    "# Train the data using logistic regression, class weighted\n",
    "model3 = LogisticRegression(class_weight='balanced')\n",
    "model3.fit(X_train, Y_train)"
   ]
  },
  {
   "cell_type": "code",
   "execution_count": 29,
   "metadata": {},
   "outputs": [
    {
     "data": {
      "text/plain": [
       "(LogisticRegression(C=10, class_weight='balanced', dual=False,\n",
       "           fit_intercept=True, intercept_scaling=1, max_iter=100,\n",
       "           multi_class='ovr', n_jobs=1, penalty='l2', random_state=None,\n",
       "           solver='liblinear', tol=0.01, verbose=0, warm_start=False),\n",
       " {'C': 10, 'tol': 0.01},\n",
       " ({'C': 1, 'tol': 0.001},\n",
       "  {'C': 1, 'tol': 0.01},\n",
       "  {'C': 1, 'tol': 0.1},\n",
       "  {'C': 10, 'tol': 0.001},\n",
       "  {'C': 10, 'tol': 0.01},\n",
       "  {'C': 10, 'tol': 0.1},\n",
       "  {'C': 20, 'tol': 0.001},\n",
       "  {'C': 20, 'tol': 0.01},\n",
       "  {'C': 20, 'tol': 0.1}),\n",
       " array([ 0.86028927,  0.86039333,  0.86035864,  0.86035864,  0.8604627 ,\n",
       "         0.86032396,  0.86035864,  0.8604627 ,  0.86032396]))"
      ]
     },
     "execution_count": 29,
     "metadata": {},
     "output_type": "execute_result"
    }
   ],
   "source": [
    "# Try gridsearch for tuning parameters\n",
    "parameters = {'C':[1, 10, 20], 'tol':[0.001, 0.01, 0.1]}\n",
    "clf = GridSearchCV(model3, parameters, cv=5, scoring='accuracy')\n",
    "clf.fit(X_train, Y_train)\n",
    "clf.best_estimator_, clf.best_params_, clf.cv_results_['params'], clf.cv_results_['mean_test_score']"
   ]
  },
  {
   "cell_type": "code",
   "execution_count": 30,
   "metadata": {},
   "outputs": [
    {
     "data": {
      "text/plain": [
       "LogisticRegression(C=10, class_weight='balanced', dual=False,\n",
       "          fit_intercept=True, intercept_scaling=1, max_iter=100,\n",
       "          multi_class='ovr', n_jobs=1, penalty='l2', random_state=None,\n",
       "          solver='liblinear', tol=0.01, verbose=0, warm_start=False)"
      ]
     },
     "execution_count": 30,
     "metadata": {},
     "output_type": "execute_result"
    }
   ],
   "source": [
    "# Train the logistic regression model with class weight balanced and parameters tuned through gridsearch\n",
    "model3 = LogisticRegression(class_weight='balanced', C=10, tol=0.01)\n",
    "model3.fit(X_train, Y_train)"
   ]
  },
  {
   "cell_type": "code",
   "execution_count": 31,
   "metadata": {},
   "outputs": [
    {
     "name": "stdout",
     "output_type": "stream",
     "text": [
      "             precision    recall  f1-score   support\n",
      "\n",
      "         no       0.98      0.87      0.92      7280\n",
      "        yes       0.45      0.85      0.59       958\n",
      "\n",
      "avg / total       0.92      0.86      0.88      8238\n",
      "\n"
     ]
    }
   ],
   "source": [
    "# Classification report for excluding age, personal loan, housing loan, marital, \n",
    "# unemployed, unknown and housemaid in job and July in month, class weight balanced\n",
    "print(classification_report(y_true=Y_test, y_pred=model3.predict(X_test), target_names=['no', 'yes']))"
   ]
  },
  {
   "cell_type": "markdown",
   "metadata": {},
   "source": [
    "#### Compare the classification report for including all features and the classification report for excluding some features with low coefficients, the only difference for \"yes\" output is that excluding some features slightly improves the recall score by 1%. "
   ]
  },
  {
   "cell_type": "code",
   "execution_count": null,
   "metadata": {
    "collapsed": true
   },
   "outputs": [],
   "source": []
  }
 ],
 "metadata": {
  "kernelspec": {
   "display_name": "Python 3",
   "language": "python",
   "name": "python3"
  },
  "language_info": {
   "codemirror_mode": {
    "name": "ipython",
    "version": 3
   },
   "file_extension": ".py",
   "mimetype": "text/x-python",
   "name": "python",
   "nbconvert_exporter": "python",
   "pygments_lexer": "ipython3",
   "version": "3.6.1"
  }
 },
 "nbformat": 4,
 "nbformat_minor": 2
}
