{
 "cells": [
  {
   "cell_type": "code",
   "execution_count": 12,
   "metadata": {
    "collapsed": true
   },
   "outputs": [],
   "source": [
    "from sklearn.tree import DecisionTreeClassifier\n",
    "import pandas as pd\n",
    "import numpy as np\n",
    "from sklearn.metrics import classification_report"
   ]
  },
  {
   "cell_type": "code",
   "execution_count": 9,
   "metadata": {
    "collapsed": true
   },
   "outputs": [],
   "source": [
    "data_df = pd.read_csv('rearranged_optimal_data_set.csv')"
   ]
  },
  {
   "cell_type": "code",
   "execution_count": 10,
   "metadata": {},
   "outputs": [
    {
     "name": "stdout",
     "output_type": "stream",
     "text": [
      "(28831, 81)\n",
      "(8237, 81)\n",
      "(4120, 81)\n",
      "(28831,)\n",
      "(8237,)\n",
      "(4120,)\n"
     ]
    }
   ],
   "source": [
    "data=np.array(data_df)\n",
    "n = data.shape[0]\n",
    "d = data.shape[1]\n",
    "d -= 1\n",
    "n_train = int(n*0.7)\n",
    "n_test = int(n*0.2)\n",
    "n_validate  = n - n_train - n_test\n",
    "np.random.seed(101)\n",
    "data = np.random.permutation(data)\n",
    "\n",
    "X_train = np.zeros((n_train,d))\n",
    "X_test  = np.zeros((n_test,d))\n",
    "X_validate = np.zeros((n_validate,d))\n",
    "Y_train = np.zeros((n_train))\n",
    "Y_test = np.zeros((n_test))\n",
    "Y_validate = np.zeros((n_validate))\n",
    "\n",
    "X_train[:] = data[:n_train,:-1]\n",
    "Y_train[:] = data[:n_train,-1]\n",
    "\n",
    "X_test[:] = data[n_train:(n_train+n_test),:-1]\n",
    "Y_test[:] = data[n_train:(n_train+n_test),-1]\n",
    "\n",
    "X_validate[:] = data[(n_train+n_test):, :-1]\n",
    "Y_validate[:] = data[(n_train+n_test):,-1]\n",
    "\n",
    "print(X_train.shape)\n",
    "print(X_test.shape)\n",
    "print(X_validate.shape)\n",
    "print(Y_train.shape)\n",
    "print(Y_test.shape)\n",
    "print(Y_validate.shape)"
   ]
  },
  {
   "cell_type": "code",
   "execution_count": 23,
   "metadata": {
    "collapsed": true
   },
   "outputs": [],
   "source": [
    "clf = tree.DecisionTreeClassifier()\n",
    "clf = clf.fit(X_train, Y_train)"
   ]
  },
  {
   "cell_type": "code",
   "execution_count": 24,
   "metadata": {},
   "outputs": [
    {
     "name": "stdout",
     "output_type": "stream",
     "text": [
      "             precision    recall  f1-score   support\n",
      "\n",
      "         no       0.94      0.94      0.94      7279\n",
      "        yes       0.54      0.53      0.53       958\n",
      "\n",
      "avg / total       0.89      0.89      0.89      8237\n",
      "\n"
     ]
    }
   ],
   "source": [
    "print(classification_report(y_true=Y_test, y_pred=clf.predict(X_test)\n",
    "                            , target_names=['no', 'yes']))"
   ]
  },
  {
   "cell_type": "code",
   "execution_count": 50,
   "metadata": {
    "collapsed": true
   },
   "outputs": [],
   "source": [
    "clf1 = tree.DecisionTreeClassifier(min_samples_leaf = 100)\n",
    "clf1 = clf1.fit(X_train, Y_train)"
   ]
  },
  {
   "cell_type": "code",
   "execution_count": 51,
   "metadata": {},
   "outputs": [
    {
     "name": "stdout",
     "output_type": "stream",
     "text": [
      "             precision    recall  f1-score   support\n",
      "\n",
      "         no       0.93      0.97      0.95      7279\n",
      "        yes       0.66      0.45      0.54       958\n",
      "\n",
      "avg / total       0.90      0.91      0.90      8237\n",
      "\n"
     ]
    }
   ],
   "source": [
    "print(classification_report(y_true=Y_test, y_pred=clf1.predict(X_test)\n",
    "                            , target_names=['no', 'yes']))"
   ]
  },
  {
   "cell_type": "code",
   "execution_count": 52,
   "metadata": {
    "collapsed": true
   },
   "outputs": [],
   "source": [
    "data_df1 = pd.read_csv('rearranged_whole_data_set.csv')"
   ]
  },
  {
   "cell_type": "code",
   "execution_count": 53,
   "metadata": {},
   "outputs": [
    {
     "name": "stdout",
     "output_type": "stream",
     "text": [
      "(28831, 102)\n",
      "(8237, 102)\n",
      "(4120, 102)\n",
      "(28831,)\n",
      "(8237,)\n",
      "(4120,)\n"
     ]
    }
   ],
   "source": [
    "data=np.array(data_df1)\n",
    "n = data.shape[0]\n",
    "d = data.shape[1]\n",
    "d -= 1\n",
    "n_train = int(n*0.7)\n",
    "n_test = int(n*0.2)\n",
    "n_validate  = n - n_train - n_test\n",
    "np.random.seed(101)\n",
    "data = np.random.permutation(data)\n",
    "\n",
    "X_train = np.zeros((n_train,d))\n",
    "X_test  = np.zeros((n_test,d))\n",
    "X_validate = np.zeros((n_validate,d))\n",
    "Y_train = np.zeros((n_train))\n",
    "Y_test = np.zeros((n_test))\n",
    "Y_validate = np.zeros((n_validate))\n",
    "\n",
    "X_train[:] = data[:n_train,:-1]\n",
    "Y_train[:] = data[:n_train,-1]\n",
    "\n",
    "X_test[:] = data[n_train:(n_train+n_test),:-1]\n",
    "Y_test[:] = data[n_train:(n_train+n_test),-1]\n",
    "\n",
    "X_validate[:] = data[(n_train+n_test):, :-1]\n",
    "Y_validate[:] = data[(n_train+n_test):,-1]\n",
    "\n",
    "print(X_train.shape)\n",
    "print(X_test.shape)\n",
    "print(X_validate.shape)\n",
    "print(Y_train.shape)\n",
    "print(Y_test.shape)\n",
    "print(Y_validate.shape)"
   ]
  },
  {
   "cell_type": "code",
   "execution_count": 58,
   "metadata": {
    "collapsed": true
   },
   "outputs": [],
   "source": [
    "clf2 = tree.DecisionTreeClassifier(min_samples_leaf = 100)\n",
    "clf2 = clf2.fit(X_train, Y_train)"
   ]
  },
  {
   "cell_type": "code",
   "execution_count": 59,
   "metadata": {},
   "outputs": [
    {
     "name": "stdout",
     "output_type": "stream",
     "text": [
      "             precision    recall  f1-score   support\n",
      "\n",
      "         no       0.93      0.97      0.95      7279\n",
      "        yes       0.66      0.45      0.54       958\n",
      "\n",
      "avg / total       0.90      0.91      0.90      8237\n",
      "\n"
     ]
    }
   ],
   "source": [
    "print(classification_report(y_true=Y_test, y_pred=clf2.predict(X_test)\n",
    "                            , target_names=['no', 'yes']))"
   ]
  },
  {
   "cell_type": "code",
   "execution_count": null,
   "metadata": {
    "collapsed": true
   },
   "outputs": [],
   "source": []
  }
 ],
 "metadata": {
  "kernelspec": {
   "display_name": "Python 3",
   "language": "python",
   "name": "python3"
  },
  "language_info": {
   "codemirror_mode": {
    "name": "ipython",
    "version": 3
   },
   "file_extension": ".py",
   "mimetype": "text/x-python",
   "name": "python",
   "nbconvert_exporter": "python",
   "pygments_lexer": "ipython3",
   "version": "3.6.1"
  }
 },
 "nbformat": 4,
 "nbformat_minor": 2
}
