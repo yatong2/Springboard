{
 "cells": [
  {
   "cell_type": "code",
   "execution_count": 1,
   "metadata": {
    "collapsed": true
   },
   "outputs": [],
   "source": [
    "import pandas as pd\n",
    "import numpy as np\n",
    "import seaborn as sns\n",
    "%matplotlib inline"
   ]
  },
  {
   "cell_type": "code",
   "execution_count": 2,
   "metadata": {},
   "outputs": [
    {
     "name": "stdout",
     "output_type": "stream",
     "text": [
      "(41188, 13)\n",
      "6248\n",
      "21576\n"
     ]
    }
   ],
   "source": [
    "bank_info = pd.read_csv('bank-additional-full.csv', delimiter=\";\")\n",
    "dataset = bank_info.drop(bank_info.columns[7:15], axis=1)\n",
    "ir = dataset.replace(['yes','no','unknown'], [1, 0, 0])\n",
    "#bank_info.columns[7:15]\n",
    "print(ir.shape)\n",
    "print(sum(ir['loan']))\n",
    "print(sum(ir['housing']))"
   ]
  },
  {
   "cell_type": "code",
   "execution_count": 4,
   "metadata": {},
   "outputs": [
    {
     "name": "stdout",
     "output_type": "stream",
     "text": [
      "The percentage of people having a personal loan in the data is 15.169467%\n",
      "The percentage of people having a housing loan in the data is 52.384190%\n"
     ]
    }
   ],
   "source": [
    "print('The percentage of people having a personal loan in the data is %f%%' % (6248/41188*100))\n",
    "print('The percentage of people having a housing loan in the data is %f%%' % (21576/41188*100))"
   ]
  },
  {
   "cell_type": "code",
   "execution_count": 3,
   "metadata": {},
   "outputs": [
    {
     "data": {
      "text/plain": [
       "yes        21576\n",
       "no         18622\n",
       "unknown      990\n",
       "Name: housing, dtype: int64"
      ]
     },
     "execution_count": 3,
     "metadata": {},
     "output_type": "execute_result"
    }
   ],
   "source": [
    "dataset.housing.value_counts()"
   ]
  },
  {
   "cell_type": "code",
   "execution_count": 4,
   "metadata": {},
   "outputs": [
    {
     "data": {
      "text/plain": [
       "no         33950\n",
       "yes         6248\n",
       "unknown      990\n",
       "Name: loan, dtype: int64"
      ]
     },
     "execution_count": 4,
     "metadata": {},
     "output_type": "execute_result"
    }
   ],
   "source": [
    "dataset.loan.value_counts()"
   ]
  },
  {
   "cell_type": "code",
   "execution_count": 16,
   "metadata": {},
   "outputs": [
    {
     "data": {
      "image/png": "[encoded data removed]",
      "text/plain": [
       "<matplotlib.figure.Figure at 0x11b66fe80>"
      ]
     },
     "metadata": {},
     "output_type": "display_data"
    }
   ],
   "source": [
    "sns.boxplot(dataset['age'],dataset['housing'])\n",
    "sns.despine()"
   ]
  },
  {
   "cell_type": "code",
   "execution_count": 17,
   "metadata": {},
   "outputs": [
    {
     "data": {
      "image/png": "[encoded data removed]",
      "text/plain": [
       "<matplotlib.figure.Figure at 0x11ec70f60>"
      ]
     },
     "metadata": {},
     "output_type": "display_data"
    }
   ],
   "source": [
    "sns.boxplot(dataset['age'],dataset['loan'])\n",
    "sns.despine()"
   ]
  },
  {
   "cell_type": "code",
   "execution_count": 61,
   "metadata": {},
   "outputs": [
    {
     "data": {
      "text/html": [
       "<div>\n",
       "<style>\n",
       "    .dataframe thead tr:only-child th {\n",
       "        text-align: right;\n",
       "    }\n",
       "\n",
       "    .dataframe thead th {\n",
       "        text-align: left;\n",
       "    }\n",
       "\n",
       "    .dataframe tbody tr th {\n",
       "        vertical-align: top;\n",
       "    }\n",
       "</style>\n",
       "<table border=\"1\" class=\"dataframe\">\n",
       "  <thead>\n",
       "    <tr style=\"text-align: right;\">\n",
       "      <th>housing</th>\n",
       "      <th>no</th>\n",
       "      <th>unknown</th>\n",
       "      <th>yes</th>\n",
       "      <th>percentage</th>\n",
       "    </tr>\n",
       "    <tr>\n",
       "      <th>marital</th>\n",
       "      <th></th>\n",
       "      <th></th>\n",
       "      <th></th>\n",
       "      <th></th>\n",
       "    </tr>\n",
       "  </thead>\n",
       "  <tbody>\n",
       "    <tr>\n",
       "      <th>unknown</th>\n",
       "      <td>44</td>\n",
       "      <td>1</td>\n",
       "      <td>35</td>\n",
       "      <td>0.437500</td>\n",
       "    </tr>\n",
       "    <tr>\n",
       "      <th>married</th>\n",
       "      <td>11389</td>\n",
       "      <td>588</td>\n",
       "      <td>12951</td>\n",
       "      <td>0.519536</td>\n",
       "    </tr>\n",
       "    <tr>\n",
       "      <th>divorced</th>\n",
       "      <td>2092</td>\n",
       "      <td>121</td>\n",
       "      <td>2399</td>\n",
       "      <td>0.520165</td>\n",
       "    </tr>\n",
       "    <tr>\n",
       "      <th>single</th>\n",
       "      <td>5097</td>\n",
       "      <td>280</td>\n",
       "      <td>6191</td>\n",
       "      <td>0.535183</td>\n",
       "    </tr>\n",
       "  </tbody>\n",
       "</table>\n",
       "</div>"
      ],
      "text/plain": [
       "housing      no  unknown    yes  percentage\n",
       "marital                                    \n",
       "unknown      44        1     35    0.437500\n",
       "married   11389      588  12951    0.519536\n",
       "divorced   2092      121   2399    0.520165\n",
       "single     5097      280   6191    0.535183"
      ]
     },
     "execution_count": 61,
     "metadata": {},
     "output_type": "execute_result"
    }
   ],
   "source": [
    "h_m = dataset.groupby(['marital', 'housing']).size().unstack()\n",
    "h_m['percentage'] = h_m.yes / (h_m.no + h_m.yes + h_m.unknown)\n",
    "h_m.sort_values('percentage')#.drop(h_m.columns[0:3], axis = 1).plot(kind='bar')"
   ]
  },
  {
   "cell_type": "code",
   "execution_count": 62,
   "metadata": {},
   "outputs": [
    {
     "data": {
      "text/html": [
       "<div>\n",
       "<style>\n",
       "    .dataframe thead tr:only-child th {\n",
       "        text-align: right;\n",
       "    }\n",
       "\n",
       "    .dataframe thead th {\n",
       "        text-align: left;\n",
       "    }\n",
       "\n",
       "    .dataframe tbody tr th {\n",
       "        vertical-align: top;\n",
       "    }\n",
       "</style>\n",
       "<table border=\"1\" class=\"dataframe\">\n",
       "  <thead>\n",
       "    <tr style=\"text-align: right;\">\n",
       "      <th>loan</th>\n",
       "      <th>no</th>\n",
       "      <th>unknown</th>\n",
       "      <th>yes</th>\n",
       "      <th>percentage</th>\n",
       "    </tr>\n",
       "    <tr>\n",
       "      <th>education</th>\n",
       "      <th></th>\n",
       "      <th></th>\n",
       "      <th></th>\n",
       "      <th></th>\n",
       "    </tr>\n",
       "  </thead>\n",
       "  <tbody>\n",
       "    <tr>\n",
       "      <th>unknown</th>\n",
       "      <td>1449.0</td>\n",
       "      <td>40.0</td>\n",
       "      <td>242.0</td>\n",
       "      <td>0.139804</td>\n",
       "    </tr>\n",
       "    <tr>\n",
       "      <th>basic.6y</th>\n",
       "      <td>1902.0</td>\n",
       "      <td>60.0</td>\n",
       "      <td>330.0</td>\n",
       "      <td>0.143979</td>\n",
       "    </tr>\n",
       "    <tr>\n",
       "      <th>basic.9y</th>\n",
       "      <td>5011.0</td>\n",
       "      <td>151.0</td>\n",
       "      <td>883.0</td>\n",
       "      <td>0.146071</td>\n",
       "    </tr>\n",
       "    <tr>\n",
       "      <th>basic.4y</th>\n",
       "      <td>3435.0</td>\n",
       "      <td>117.0</td>\n",
       "      <td>624.0</td>\n",
       "      <td>0.149425</td>\n",
       "    </tr>\n",
       "    <tr>\n",
       "      <th>professional.course</th>\n",
       "      <td>4325.0</td>\n",
       "      <td>125.0</td>\n",
       "      <td>793.0</td>\n",
       "      <td>0.151249</td>\n",
       "    </tr>\n",
       "    <tr>\n",
       "      <th>high.school</th>\n",
       "      <td>7852.0</td>\n",
       "      <td>220.0</td>\n",
       "      <td>1443.0</td>\n",
       "      <td>0.151655</td>\n",
       "    </tr>\n",
       "    <tr>\n",
       "      <th>university.degree</th>\n",
       "      <td>9961.0</td>\n",
       "      <td>277.0</td>\n",
       "      <td>1930.0</td>\n",
       "      <td>0.158613</td>\n",
       "    </tr>\n",
       "    <tr>\n",
       "      <th>illiterate</th>\n",
       "      <td>15.0</td>\n",
       "      <td>0.0</td>\n",
       "      <td>3.0</td>\n",
       "      <td>0.166667</td>\n",
       "    </tr>\n",
       "  </tbody>\n",
       "</table>\n",
       "</div>"
      ],
      "text/plain": [
       "loan                     no  unknown     yes  percentage\n",
       "education                                               \n",
       "unknown              1449.0     40.0   242.0    0.139804\n",
       "basic.6y             1902.0     60.0   330.0    0.143979\n",
       "basic.9y             5011.0    151.0   883.0    0.146071\n",
       "basic.4y             3435.0    117.0   624.0    0.149425\n",
       "professional.course  4325.0    125.0   793.0    0.151249\n",
       "high.school          7852.0    220.0  1443.0    0.151655\n",
       "university.degree    9961.0    277.0  1930.0    0.158613\n",
       "illiterate             15.0      0.0     3.0    0.166667"
      ]
     },
     "execution_count": 62,
     "metadata": {},
     "output_type": "execute_result"
    }
   ],
   "source": [
    "l_e = dataset.groupby(['education', 'loan']).size().unstack().fillna(0)\n",
    "l_e['percentage'] = l_e.yes / (l_e.no + l_e.yes + l_e.unknown)\n",
    "l_e.sort_values('percentage')#.drop(l_e.columns[0:3], axis = 1).plot(kind='bar')"
   ]
  },
  {
   "cell_type": "code",
   "execution_count": 63,
   "metadata": {},
   "outputs": [
    {
     "data": {
      "text/html": [
       "<div>\n",
       "<style>\n",
       "    .dataframe thead tr:only-child th {\n",
       "        text-align: right;\n",
       "    }\n",
       "\n",
       "    .dataframe thead th {\n",
       "        text-align: left;\n",
       "    }\n",
       "\n",
       "    .dataframe tbody tr th {\n",
       "        vertical-align: top;\n",
       "    }\n",
       "</style>\n",
       "<table border=\"1\" class=\"dataframe\">\n",
       "  <thead>\n",
       "    <tr style=\"text-align: right;\">\n",
       "      <th>housing</th>\n",
       "      <th>no</th>\n",
       "      <th>unknown</th>\n",
       "      <th>yes</th>\n",
       "      <th>percentage</th>\n",
       "    </tr>\n",
       "    <tr>\n",
       "      <th>education</th>\n",
       "      <th></th>\n",
       "      <th></th>\n",
       "      <th></th>\n",
       "      <th></th>\n",
       "    </tr>\n",
       "  </thead>\n",
       "  <tbody>\n",
       "    <tr>\n",
       "      <th>basic.4y</th>\n",
       "      <td>1955.0</td>\n",
       "      <td>117.0</td>\n",
       "      <td>2104.0</td>\n",
       "      <td>0.503831</td>\n",
       "    </tr>\n",
       "    <tr>\n",
       "      <th>unknown</th>\n",
       "      <td>816.0</td>\n",
       "      <td>40.0</td>\n",
       "      <td>875.0</td>\n",
       "      <td>0.505488</td>\n",
       "    </tr>\n",
       "    <tr>\n",
       "      <th>basic.6y</th>\n",
       "      <td>1070.0</td>\n",
       "      <td>60.0</td>\n",
       "      <td>1162.0</td>\n",
       "      <td>0.506981</td>\n",
       "    </tr>\n",
       "    <tr>\n",
       "      <th>high.school</th>\n",
       "      <td>4363.0</td>\n",
       "      <td>220.0</td>\n",
       "      <td>4932.0</td>\n",
       "      <td>0.518339</td>\n",
       "    </tr>\n",
       "    <tr>\n",
       "      <th>basic.9y</th>\n",
       "      <td>2743.0</td>\n",
       "      <td>151.0</td>\n",
       "      <td>3151.0</td>\n",
       "      <td>0.521257</td>\n",
       "    </tr>\n",
       "    <tr>\n",
       "      <th>university.degree</th>\n",
       "      <td>5387.0</td>\n",
       "      <td>277.0</td>\n",
       "      <td>6504.0</td>\n",
       "      <td>0.534517</td>\n",
       "    </tr>\n",
       "    <tr>\n",
       "      <th>professional.course</th>\n",
       "      <td>2280.0</td>\n",
       "      <td>125.0</td>\n",
       "      <td>2838.0</td>\n",
       "      <td>0.541293</td>\n",
       "    </tr>\n",
       "    <tr>\n",
       "      <th>illiterate</th>\n",
       "      <td>8.0</td>\n",
       "      <td>0.0</td>\n",
       "      <td>10.0</td>\n",
       "      <td>0.555556</td>\n",
       "    </tr>\n",
       "  </tbody>\n",
       "</table>\n",
       "</div>"
      ],
      "text/plain": [
       "housing                  no  unknown     yes  percentage\n",
       "education                                               \n",
       "basic.4y             1955.0    117.0  2104.0    0.503831\n",
       "unknown               816.0     40.0   875.0    0.505488\n",
       "basic.6y             1070.0     60.0  1162.0    0.506981\n",
       "high.school          4363.0    220.0  4932.0    0.518339\n",
       "basic.9y             2743.0    151.0  3151.0    0.521257\n",
       "university.degree    5387.0    277.0  6504.0    0.534517\n",
       "professional.course  2280.0    125.0  2838.0    0.541293\n",
       "illiterate              8.0      0.0    10.0    0.555556"
      ]
     },
     "execution_count": 63,
     "metadata": {},
     "output_type": "execute_result"
    }
   ],
   "source": [
    "h_e = dataset.groupby(['education', 'housing']).size().unstack().fillna(0)\n",
    "h_e['percentage'] = h_e.yes / (h_e.no + h_e.yes + h_e.unknown)\n",
    "h_e.sort_values('percentage')#.drop(h_e.columns[0:3], axis = 1).plot(kind='bar')"
   ]
  },
  {
   "cell_type": "code",
   "execution_count": 58,
   "metadata": {},
   "outputs": [
    {
     "data": {
      "text/html": [
       "<div>\n",
       "<style>\n",
       "    .dataframe thead tr:only-child th {\n",
       "        text-align: right;\n",
       "    }\n",
       "\n",
       "    .dataframe thead th {\n",
       "        text-align: left;\n",
       "    }\n",
       "\n",
       "    .dataframe tbody tr th {\n",
       "        vertical-align: top;\n",
       "    }\n",
       "</style>\n",
       "<table border=\"1\" class=\"dataframe\">\n",
       "  <thead>\n",
       "    <tr style=\"text-align: right;\">\n",
       "      <th>loan</th>\n",
       "      <th>no</th>\n",
       "      <th>unknown</th>\n",
       "      <th>yes</th>\n",
       "      <th>percentage</th>\n",
       "    </tr>\n",
       "    <tr>\n",
       "      <th>job</th>\n",
       "      <th></th>\n",
       "      <th></th>\n",
       "      <th></th>\n",
       "      <th></th>\n",
       "    </tr>\n",
       "  </thead>\n",
       "  <tbody>\n",
       "    <tr>\n",
       "      <th>self-employed</th>\n",
       "      <td>1186</td>\n",
       "      <td>40</td>\n",
       "      <td>195</td>\n",
       "      <td>0.137227</td>\n",
       "    </tr>\n",
       "    <tr>\n",
       "      <th>retired</th>\n",
       "      <td>1436</td>\n",
       "      <td>44</td>\n",
       "      <td>240</td>\n",
       "      <td>0.139535</td>\n",
       "    </tr>\n",
       "    <tr>\n",
       "      <th>entrepreneur</th>\n",
       "      <td>1214</td>\n",
       "      <td>36</td>\n",
       "      <td>206</td>\n",
       "      <td>0.141484</td>\n",
       "    </tr>\n",
       "    <tr>\n",
       "      <th>housemaid</th>\n",
       "      <td>877</td>\n",
       "      <td>29</td>\n",
       "      <td>154</td>\n",
       "      <td>0.145283</td>\n",
       "    </tr>\n",
       "    <tr>\n",
       "      <th>technician</th>\n",
       "      <td>5607</td>\n",
       "      <td>147</td>\n",
       "      <td>989</td>\n",
       "      <td>0.146671</td>\n",
       "    </tr>\n",
       "    <tr>\n",
       "      <th>unemployed</th>\n",
       "      <td>838</td>\n",
       "      <td>27</td>\n",
       "      <td>149</td>\n",
       "      <td>0.146943</td>\n",
       "    </tr>\n",
       "    <tr>\n",
       "      <th>blue-collar</th>\n",
       "      <td>7648</td>\n",
       "      <td>240</td>\n",
       "      <td>1366</td>\n",
       "      <td>0.147612</td>\n",
       "    </tr>\n",
       "    <tr>\n",
       "      <th>management</th>\n",
       "      <td>2414</td>\n",
       "      <td>71</td>\n",
       "      <td>439</td>\n",
       "      <td>0.150137</td>\n",
       "    </tr>\n",
       "    <tr>\n",
       "      <th>services</th>\n",
       "      <td>3267</td>\n",
       "      <td>101</td>\n",
       "      <td>601</td>\n",
       "      <td>0.151424</td>\n",
       "    </tr>\n",
       "    <tr>\n",
       "      <th>student</th>\n",
       "      <td>710</td>\n",
       "      <td>23</td>\n",
       "      <td>142</td>\n",
       "      <td>0.162286</td>\n",
       "    </tr>\n",
       "    <tr>\n",
       "      <th>admin.</th>\n",
       "      <td>8485</td>\n",
       "      <td>227</td>\n",
       "      <td>1710</td>\n",
       "      <td>0.164076</td>\n",
       "    </tr>\n",
       "    <tr>\n",
       "      <th>unknown</th>\n",
       "      <td>268</td>\n",
       "      <td>5</td>\n",
       "      <td>57</td>\n",
       "      <td>0.172727</td>\n",
       "    </tr>\n",
       "  </tbody>\n",
       "</table>\n",
       "</div>"
      ],
      "text/plain": [
       "loan             no  unknown   yes  percentage\n",
       "job                                           \n",
       "self-employed  1186       40   195    0.137227\n",
       "retired        1436       44   240    0.139535\n",
       "entrepreneur   1214       36   206    0.141484\n",
       "housemaid       877       29   154    0.145283\n",
       "technician     5607      147   989    0.146671\n",
       "unemployed      838       27   149    0.146943\n",
       "blue-collar    7648      240  1366    0.147612\n",
       "management     2414       71   439    0.150137\n",
       "services       3267      101   601    0.151424\n",
       "student         710       23   142    0.162286\n",
       "admin.         8485      227  1710    0.164076\n",
       "unknown         268        5    57    0.172727"
      ]
     },
     "execution_count": 58,
     "metadata": {},
     "output_type": "execute_result"
    }
   ],
   "source": [
    "h_j = dataset.groupby(['job', 'loan']).size().unstack().fillna(0)\n",
    "h_j['percentage'] = h_j.yes / (h_j.no + h_j.yes + h_j.unknown)\n",
    "h_j.sort_values('percentage')#.drop(h_j.columns[0:3], axis = 1).plot(kind='bar')"
   ]
  },
  {
   "cell_type": "code",
   "execution_count": null,
   "metadata": {
    "collapsed": true
   },
   "outputs": [],
   "source": []
  }
 ],
 "metadata": {
  "kernelspec": {
   "display_name": "Python 3",
   "language": "python",
   "name": "python3"
  },
  "language_info": {
   "codemirror_mode": {
    "name": "ipython",
    "version": 3
   },
   "file_extension": ".py",
   "mimetype": "text/x-python",
   "name": "python",
   "nbconvert_exporter": "python",
   "pygments_lexer": "ipython3",
   "version": "3.6.1"
  }
 },
 "nbformat": 4,
 "nbformat_minor": 2
}
