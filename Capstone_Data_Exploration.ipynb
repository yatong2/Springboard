{
 "cells": [
  {
   "cell_type": "code",
   "execution_count": 3,
   "metadata": {
    "collapsed": true
   },
   "outputs": [],
   "source": [
    "import pandas as pd\n",
    "import numpy as np"
   ]
  },
  {
   "cell_type": "code",
   "execution_count": 34,
   "metadata": {},
   "outputs": [
    {
     "name": "stdout",
     "output_type": "stream",
     "text": [
      "(41188, 13)\n",
      "6248\n",
      "21576\n"
     ]
    }
   ],
   "source": [
    "bank_info = pd.read_csv('bank-additional-full.csv', delimiter=\";\")\n",
    "dataset = bank_info.drop(bank_info.columns[7:15], axis=1)\n",
    "ir = dataset.replace(['yes','no','unknown'], [1, 0, 0])\n",
    "#bank_info.columns[7:15]\n",
    "print(ir.shape)\n",
    "print(sum(ir['loan']))\n",
    "print(sum(ir['housing']))"
   ]
  },
  {
   "cell_type": "code",
   "execution_count": 49,
   "metadata": {},
   "outputs": [
    {
     "name": "stdout",
     "output_type": "stream",
     "text": [
      "The percentage of people having a personal loan in the data is 15.169467%\n",
      "The percentage of people having a housing loan in the data is 52.384190%\n"
     ]
    }
   ],
   "source": [
    "print('The percentage of people having a personal loan in the data is %f%%' % (6248/41188*100))\n",
    "print('The percentage of people having a housing loan in the data is %f%%' % (21576/41188*100))"
   ]
  },
  {
   "cell_type": "code",
   "execution_count": null,
   "metadata": {
    "collapsed": true
   },
   "outputs": [],
   "source": []
  }
 ],
 "metadata": {
  "kernelspec": {
   "display_name": "Python 3",
   "language": "python",
   "name": "python3"
  },
  "language_info": {
   "codemirror_mode": {
    "name": "ipython",
    "version": 3
   },
   "file_extension": ".py",
   "mimetype": "text/x-python",
   "name": "python",
   "nbconvert_exporter": "python",
   "pygments_lexer": "ipython3",
   "version": "3.6.1"
  }
 },
 "nbformat": 4,
 "nbformat_minor": 2
}
