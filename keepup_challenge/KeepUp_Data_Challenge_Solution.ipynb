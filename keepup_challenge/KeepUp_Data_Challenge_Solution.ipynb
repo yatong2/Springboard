{
 "cells": [
  {
   "cell_type": "markdown",
   "metadata": {},
   "source": [
    "## Analysis on Dataset from Amazon"
   ]
  },
  {
   "cell_type": "markdown",
   "metadata": {},
   "source": [
    "For this exercise, you will analyze a dataset from Amazon. The data format and a\n",
    "sample entry are shown on the next page.\n",
    "\n",
    "A. (Suggested duration: 90 mins)\n",
    "With the given data for 548552 products, perform exploratory analysis and make\n",
    "suggestions for further analysis on the following aspects.\n",
    "1. Trustworthiness of ratings<br><br/>\n",
    "Ratings are susceptible to manipulation, bias etc. What can you say (quantitatively\n",
    "speaking) about the ratings in this dataset?\n",
    "2. Category bloat<br><br/>\n",
    "Consider the product group named 'Books'. Each product in this group is associated with\n",
    "categories. Naturally, with categorization, there are tradeoffs between how broad or\n",
    "specific the categories must be.\n",
    "For this dataset, quantify the following:<br><br/>\n",
    "a. Is there redundancy in the categorization? How can it be identified/removed?<br><br/>\n",
    "b. Is is possible to reduce the number of categories drastically (say to 10% of existing\n",
    "categories) by sacrificing relatively few category entries (say close to 10%)?<br><br/>\n",
    "\n",
    "B. (Suggested duration: 30 mins)\n",
    "Give the number crunching a rest! Just think about these problems.\n",
    "1. Algorithm thinking<br><br/>\n",
    "How would build the product categorization from scratch, using similar/co-purchased\n",
    "information?\n",
    "2. Product thinking<br><br/>\n",
    "Now, put on your 'product thinking' hat.<br><br/>\n",
    "a. Is it a good idea to show users the categorization hierarchy for items?<br><br/>\n",
    "b. Is it a good idea to show users similar/co-purchased items?<br><br/>\n",
    "c. Is it a good idea to show users reviews and ratings for items?<br><br/>\n",
    "d. For each of the above, why? How will you establish the same?\n",
    "\n",
    "Data Source: http://snap.stanford.edu/data/amazon-meta.html"
   ]
  },
  {
   "cell_type": "markdown",
   "metadata": {},
   "source": [
    "### Part A 1."
   ]
  },
  {
   "cell_type": "code",
   "execution_count": 14,
   "metadata": {
    "collapsed": true
   },
   "outputs": [],
   "source": [
    "import pandas as pd\n",
    "import numpy as np"
   ]
  },
  {
   "cell_type": "code",
   "execution_count": 7,
   "metadata": {
    "collapsed": true
   },
   "outputs": [],
   "source": [
    "with open('amazon-meta.txt', 'r', encoding=\"utf8\") as f:\n",
    "    file_content = f.read()"
   ]
  },
  {
   "cell_type": "code",
   "execution_count": 11,
   "metadata": {
    "collapsed": true
   },
   "outputs": [],
   "source": [
    "# Parse and group the data by each product\n",
    "grouped_products = []\n",
    "info = []\n",
    "\n",
    "for string in file_content.split('\\n')[3:]:\n",
    "    if string != '':\n",
    "        info.append(string)\n",
    "    else:\n",
    "        grouped_products.append(info)\n",
    "        info = []"
   ]
  },
  {
   "cell_type": "code",
   "execution_count": 12,
   "metadata": {},
   "outputs": [
    {
     "data": {
      "text/plain": [
       "[['Id:   0', 'ASIN: 0771044445', '  discontinued product'],\n",
       " ['Id:   1',\n",
       "  'ASIN: 0827229534',\n",
       "  '  title: Patterns of Preaching: A Sermon Sampler',\n",
       "  '  group: Book',\n",
       "  '  salesrank: 396585',\n",
       "  '  similar: 5  0804215715  156101074X  0687023955  0687074231  082721619X',\n",
       "  '  categories: 2',\n",
       "  '   |Books[283155]|Subjects[1000]|Religion & Spirituality[22]|Christianity[12290]|Clergy[12360]|Preaching[12368]',\n",
       "  '   |Books[283155]|Subjects[1000]|Religion & Spirituality[22]|Christianity[12290]|Clergy[12360]|Sermons[12370]',\n",
       "  '  reviews: total: 2  downloaded: 2  avg rating: 5',\n",
       "  '    2000-7-28  cutomer: A2JW67OY8U6HHK  rating: 5  votes:  10  helpful:   9',\n",
       "  '    2003-12-14  cutomer: A2VE83MZF98ITY  rating: 5  votes:   6  helpful:   5']]"
      ]
     },
     "execution_count": 12,
     "metadata": {},
     "output_type": "execute_result"
    }
   ],
   "source": [
    "grouped_products[0:2]"
   ]
  },
  {
   "cell_type": "code",
   "execution_count": 16,
   "metadata": {},
   "outputs": [
    {
     "data": {
      "text/html": [
       "<div>\n",
       "<style>\n",
       "    .dataframe thead tr:only-child th {\n",
       "        text-align: right;\n",
       "    }\n",
       "\n",
       "    .dataframe thead th {\n",
       "        text-align: left;\n",
       "    }\n",
       "\n",
       "    .dataframe tbody tr th {\n",
       "        vertical-align: top;\n",
       "    }\n",
       "</style>\n",
       "<table border=\"1\" class=\"dataframe\">\n",
       "  <thead>\n",
       "    <tr style=\"text-align: right;\">\n",
       "      <th></th>\n",
       "      <th>id</th>\n",
       "      <th>total</th>\n",
       "      <th>downloaded</th>\n",
       "      <th>avg_rating</th>\n",
       "    </tr>\n",
       "  </thead>\n",
       "  <tbody>\n",
       "    <tr>\n",
       "      <th>1</th>\n",
       "      <td>1</td>\n",
       "      <td>2</td>\n",
       "      <td>2</td>\n",
       "      <td>5.0</td>\n",
       "    </tr>\n",
       "    <tr>\n",
       "      <th>109902</th>\n",
       "      <td>2</td>\n",
       "      <td>12</td>\n",
       "      <td>12</td>\n",
       "      <td>4.5</td>\n",
       "    </tr>\n",
       "    <tr>\n",
       "      <th>219674</th>\n",
       "      <td>3</td>\n",
       "      <td>1</td>\n",
       "      <td>1</td>\n",
       "      <td>5.0</td>\n",
       "    </tr>\n",
       "    <tr>\n",
       "      <th>329477</th>\n",
       "      <td>4</td>\n",
       "      <td>1</td>\n",
       "      <td>1</td>\n",
       "      <td>4.0</td>\n",
       "    </tr>\n",
       "    <tr>\n",
       "      <th>439371</th>\n",
       "      <td>5</td>\n",
       "      <td>0</td>\n",
       "      <td>0</td>\n",
       "      <td>0.0</td>\n",
       "    </tr>\n",
       "  </tbody>\n",
       "</table>\n",
       "</div>"
      ],
      "text/plain": [
       "        id  total  downloaded  avg_rating\n",
       "1        1      2           2         5.0\n",
       "109902   2     12          12         4.5\n",
       "219674   3      1           1         5.0\n",
       "329477   4      1           1         4.0\n",
       "439371   5      0           0         0.0"
      ]
     },
     "execution_count": 16,
     "metadata": {},
     "output_type": "execute_result"
    }
   ],
   "source": [
    "# Build a dataframe with extracted rating info of products\n",
    "rating_dict = {}\n",
    "\n",
    "for product in grouped_products:\n",
    "    idn, total, downloaded, avg_rating = '', '', '', ''\n",
    "    for item in product:\n",
    "        if item.startswith('Id:'):\n",
    "            idn = item.split()[-1]\n",
    "        elif item.startswith('  reviews:'):\n",
    "            total = item.split()[2]\n",
    "            downloaded = item.split()[4]\n",
    "            avg_rating = item.split()[7]\n",
    "        elif item.startswith('  discontinued product'):\n",
    "            skip = True\n",
    "    if skip == False:\n",
    "        rating_dict[idn] = [total, downloaded, avg_rating]\n",
    "    else:\n",
    "        skip = False\n",
    "    \n",
    "rating_df = pd.DataFrame.from_dict(rating_dict)\n",
    "rating_df = rating_df.T.reset_index(drop=False)\n",
    "rating_df.columns = ['id', 'total', 'downloaded', 'avg_rating']\n",
    "rating_df = rating_df.iloc[1:]\n",
    "rating_df['id']  = rating_df['id'].astype(int)\n",
    "rating_df['total']  = rating_df['total'].astype(int)\n",
    "rating_df['downloaded']  = rating_df['downloaded'].astype(int)\n",
    "rating_df['avg_rating']  = rating_df['avg_rating'].astype(float)\n",
    "rating_df = rating_df.sort_values('id')\n",
    "rating_df.head()"
   ]
  },
  {
   "cell_type": "code",
   "execution_count": 31,
   "metadata": {},
   "outputs": [
    {
     "data": {
      "text/html": [
       "<div>\n",
       "<style>\n",
       "    .dataframe thead tr:only-child th {\n",
       "        text-align: right;\n",
       "    }\n",
       "\n",
       "    .dataframe thead th {\n",
       "        text-align: left;\n",
       "    }\n",
       "\n",
       "    .dataframe tbody tr th {\n",
       "        vertical-align: top;\n",
       "    }\n",
       "</style>\n",
       "<table border=\"1\" class=\"dataframe\">\n",
       "  <thead>\n",
       "    <tr style=\"text-align: right;\">\n",
       "      <th></th>\n",
       "      <th>id</th>\n",
       "      <th>total</th>\n",
       "      <th>downloaded</th>\n",
       "      <th>avg_rating</th>\n",
       "    </tr>\n",
       "  </thead>\n",
       "  <tbody>\n",
       "    <tr>\n",
       "      <th>count</th>\n",
       "      <td>402735.000000</td>\n",
       "      <td>402735.000000</td>\n",
       "      <td>402735.000000</td>\n",
       "      <td>402735.000000</td>\n",
       "    </tr>\n",
       "    <tr>\n",
       "      <th>mean</th>\n",
       "      <td>279228.680966</td>\n",
       "      <td>19.322855</td>\n",
       "      <td>18.854194</td>\n",
       "      <td>4.324836</td>\n",
       "    </tr>\n",
       "    <tr>\n",
       "      <th>std</th>\n",
       "      <td>161089.943216</td>\n",
       "      <td>86.235955</td>\n",
       "      <td>82.921610</td>\n",
       "      <td>0.739279</td>\n",
       "    </tr>\n",
       "    <tr>\n",
       "      <th>min</th>\n",
       "      <td>1.000000</td>\n",
       "      <td>1.000000</td>\n",
       "      <td>0.000000</td>\n",
       "      <td>1.000000</td>\n",
       "    </tr>\n",
       "    <tr>\n",
       "      <th>25%</th>\n",
       "      <td>139238.500000</td>\n",
       "      <td>2.000000</td>\n",
       "      <td>2.000000</td>\n",
       "      <td>4.000000</td>\n",
       "    </tr>\n",
       "    <tr>\n",
       "      <th>50%</th>\n",
       "      <td>278536.000000</td>\n",
       "      <td>4.000000</td>\n",
       "      <td>4.000000</td>\n",
       "      <td>4.500000</td>\n",
       "    </tr>\n",
       "    <tr>\n",
       "      <th>75%</th>\n",
       "      <td>419909.000000</td>\n",
       "      <td>11.000000</td>\n",
       "      <td>11.000000</td>\n",
       "      <td>5.000000</td>\n",
       "    </tr>\n",
       "    <tr>\n",
       "      <th>max</th>\n",
       "      <td>548551.000000</td>\n",
       "      <td>5545.000000</td>\n",
       "      <td>4995.000000</td>\n",
       "      <td>5.000000</td>\n",
       "    </tr>\n",
       "  </tbody>\n",
       "</table>\n",
       "</div>"
      ],
      "text/plain": [
       "                  id          total     downloaded     avg_rating\n",
       "count  402735.000000  402735.000000  402735.000000  402735.000000\n",
       "mean   279228.680966      19.322855      18.854194       4.324836\n",
       "std    161089.943216      86.235955      82.921610       0.739279\n",
       "min         1.000000       1.000000       0.000000       1.000000\n",
       "25%    139238.500000       2.000000       2.000000       4.000000\n",
       "50%    278536.000000       4.000000       4.000000       4.500000\n",
       "75%    419909.000000      11.000000      11.000000       5.000000\n",
       "max    548551.000000    5545.000000    4995.000000       5.000000"
      ]
     },
     "execution_count": 31,
     "metadata": {},
     "output_type": "execute_result"
    }
   ],
   "source": [
    "rating_df[rating_df.total > 0].describe()"
   ]
  },
  {
   "cell_type": "code",
   "execution_count": 37,
   "metadata": {},
   "outputs": [
    {
     "name": "stdout",
     "output_type": "stream",
     "text": [
      "There are 25.8% products that do not have any review.\n"
     ]
    }
   ],
   "source": [
    "percent_no_review = len(rating_df[rating_df.total == 0])/len(rating_df) * 100\n",
    "print('There are {:.3}% products that do not have any review.'.format(percent_no_review))"
   ]
  },
  {
   "cell_type": "code",
   "execution_count": 26,
   "metadata": {},
   "outputs": [
    {
     "name": "stdout",
     "output_type": "stream",
     "text": [
      "There are 8615 products with the number of total reviews larger than the number of downloads and the largest difference is 5029.\n"
     ]
    }
   ],
   "source": [
    "unusual = len(rating_df[rating_df['total'] > rating_df['downloaded']])\n",
    "max_unusual = max(rating_df['total'] - rating_df['downloaded'])\n",
    "print('There are %d products with the number of total reviews larger than the number of downloads and the largest difference is %d.' %(unusual, max_unusual)) "
   ]
  },
  {
   "cell_type": "markdown",
   "metadata": {},
   "source": [
    "#### From the description of the data with reviews, it is shown that at least 75% of the products have average ratings higher or equal to 4. There are 25.8% of the products do not have any review. These are findings that might show some bias in the reviews. The next finding shows that 8615 products have total review numbers larger than download times and the maximum difference is 5029. This is not very common and shows some possibility in manipulation. "
   ]
  },
  {
   "cell_type": "markdown",
   "metadata": {},
   "source": [
    "### Part A 2."
   ]
  },
  {
   "cell_type": "code",
   "execution_count": 38,
   "metadata": {
    "collapsed": true
   },
   "outputs": [],
   "source": [
    "# Extract the category list of books and number of books in all products\n",
    "category_list = []\n",
    "book_count = 0\n",
    "for product in grouped_products:\n",
    "    group = ''\n",
    "    for item in product:\n",
    "        if item.startswith('  group:'):\n",
    "            group = item.split()[-1]\n",
    "        if group == 'Book':\n",
    "            if item.startswith('   |'):\n",
    "                category_list.append(item.strip())\n",
    "    if group == 'Book':\n",
    "        book_count += 1\n",
    "\n",
    "sub_category_list = []\n",
    "for branch in category_list:\n",
    "    for sub_cat in branch.split('|')[1:]:\n",
    "        sub_category_list.append(sub_cat)"
   ]
  },
  {
   "cell_type": "code",
   "execution_count": 46,
   "metadata": {},
   "outputs": [
    {
     "name": "stdout",
     "output_type": "stream",
     "text": [
      "Number of books among all products is 393561.\n",
      "Total number of categories for books is 12853.\n",
      "Total number of sub-categories is 14923.\n"
     ]
    }
   ],
   "source": [
    "print('Number of books among all products is {}.'.format(book_count))\n",
    "print('Total number of categories for books is {}.'.format(len(set(category_list))))\n",
    "print('Total number of sub-categories is {}.'.format(len(set(sub_category_list))))"
   ]
  },
  {
   "cell_type": "code",
   "execution_count": 49,
   "metadata": {},
   "outputs": [
    {
     "data": {
      "text/plain": [
       "Books[283155]                1286848\n",
       "Subjects[1000]               1222638\n",
       "Children's Books[4]           134263\n",
       "[265523]                      123925\n",
       "Amazon.com Stores[285080]     123925\n",
       "dtype: int64"
      ]
     },
     "execution_count": 49,
     "metadata": {},
     "output_type": "execute_result"
    }
   ],
   "source": [
    "pd.Series(sub_category_list).value_counts().head(5)"
   ]
  },
  {
   "cell_type": "markdown",
   "metadata": {},
   "source": [
    "#### a. From the above, there is some redundancy in the categorication as the number of unique categories is 12853 and the number of unique sub-categories is 14923. It can be removed by recategorize some sub-categories with really small size to a sub-category with larger size. \n",
    "\n",
    "#### b. It is possible to reduce the number of categories drastically by sacrificing relatively few category entries. The category Books and Subjects have nearly 9 times higher counts than other categories and if these large size categories can be removed and use more specific categories, it should be possible to reduce the number of categories drastically by sacrificing relatively few category entries."
   ]
  },
  {
   "cell_type": "markdown",
   "metadata": {},
   "source": [
    "### Part B 1."
   ]
  },
  {
   "cell_type": "markdown",
   "metadata": {},
   "source": [
    "To build the product categorization from scratch, I would collect the words in the product categorization information from the similar/co-purchased products of the given product and then use Naive Bayes to classify the product's categorication. "
   ]
  },
  {
   "cell_type": "markdown",
   "metadata": {},
   "source": [
    "### Part B 2."
   ]
  },
  {
   "cell_type": "markdown",
   "metadata": {},
   "source": [
    "It is a good idea as showing users the categorization hierarchy for each items will help them to search for more or other items which are on the same category with what he/she is looking at. One thing to keep in mind is to not have too much hierarchy as it could begin with a very general categorization while in fact it could start with a more specific categorization and customers would take more time in finding what they want. \n",
    "\n",
    "Yes, it is a good idea to show users similar/co-purchased items since it is a quick way to show some of the products that the user could be interested in. It could increase sales as it will make the shopping experience of the customer more personalized and encourage them to check out more products. \n",
    "\n",
    "Yes, it is a good idea to show users reviews and ratings for items because for some customers that has limited information on the item, they will based their decisions on other customers who bought and used the product. "
   ]
  },
  {
   "cell_type": "code",
   "execution_count": null,
   "metadata": {
    "collapsed": true
   },
   "outputs": [],
   "source": []
  }
 ],
 "metadata": {
  "kernelspec": {
   "display_name": "Python 3",
   "language": "python",
   "name": "python3"
  },
  "language_info": {
   "codemirror_mode": {
    "name": "ipython",
    "version": 3
   },
   "file_extension": ".py",
   "mimetype": "text/x-python",
   "name": "python",
   "nbconvert_exporter": "python",
   "pygments_lexer": "ipython3",
   "version": "3.6.1"
  }
 },
 "nbformat": 4,
 "nbformat_minor": 2
}
